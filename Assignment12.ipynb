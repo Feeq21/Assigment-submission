{
 "cells": [
  {
   "cell_type": "markdown",
   "id": "8e1646dc-4d37-47cf-befd-e13b9e5b04a4",
   "metadata": {},
   "source": [
    "1. draw a triangle\n",
    "2. draw an hexagon\n",
    "3. draw a decagon\n",
    "4. draw a line"
   ]
  },
  {
   "cell_type": "code",
   "execution_count": 2,
   "id": "4a302201-2456-4c2a-9ac6-bd9cad8864ed",
   "metadata": {},
   "outputs": [],
   "source": [
    "# define a dictionary\n",
    "colors = {\n",
    "    'BLUE': (255, 0, 0),\n",
    "    'GREEN': (0, 255, 0),\n",
    "    'RED': (0, 0, 255),\n",
    "    'YELLOW': (0, 255, 255),\n",
    "    'MAGENTA': (255, 0, 255),\n",
    "    'CYAN': (255, 255, 0),\n",
    "    'DARK_GRAY': (50, 50, 50),\n",
    "    'LIGHT_GRAY': (200, 200, 200),\n",
    "    'SEA_BLUE' : (89,100,0)\n",
    "}"
   ]
  },
  {
   "cell_type": "code",
   "execution_count": 5,
   "id": "a3e22d87-c803-42d6-bfd7-d04942e93284",
   "metadata": {},
   "outputs": [],
   "source": [
    "import numpy as np\n",
    "\n",
    "def create_canvas(height=500, width=500, bgColor=0):\n",
    "    # create the image (canvas)\n",
    "    canvas = np.zeros((height, width, 3), dtype='uint8')\n",
    "    if bgColor != 0:\n",
    "        canvas[:] = bgColor\n",
    "    return canvas\n",
    "\n",
    "def show_in_matplotlib(img, figsize=(6,8)):\n",
    "    imgRGB = cv.cvtColor(img, cv.COLOR_BGR2RGB)\n",
    "    plt.figure(figsize=figsize)\n",
    "    ptl.title(\"Assignment 12\")\n",
    "    plt.imshow(imgRGB)\n",
    "    plt.show()"
   ]
  },
  {
   "cell_type": "code",
   "execution_count": 6,
   "id": "83f79522-0695-48bc-8107-d362738fdbc8",
   "metadata": {},
   "outputs": [
    {
     "ename": "NameError",
     "evalue": "name 'ptl' is not defined",
     "output_type": "error",
     "traceback": [
      "\u001b[1;31m---------------------------------------------------------------------------\u001b[0m",
      "\u001b[1;31mNameError\u001b[0m                                 Traceback (most recent call last)",
      "\u001b[1;32m<ipython-input-6-dfa20d3eaa77>\u001b[0m in \u001b[0;36m<module>\u001b[1;34m\u001b[0m\n\u001b[0;32m     29\u001b[0m \u001b[1;33m\u001b[0m\u001b[0m\n\u001b[0;32m     30\u001b[0m \u001b[1;33m\u001b[0m\u001b[0m\n\u001b[1;32m---> 31\u001b[1;33m \u001b[0mshow_in_matplotlib\u001b[0m\u001b[1;33m(\u001b[0m\u001b[0mimg\u001b[0m\u001b[1;33m)\u001b[0m\u001b[1;33m\u001b[0m\u001b[1;33m\u001b[0m\u001b[0m\n\u001b[0m",
      "\u001b[1;32m<ipython-input-5-e286e610d3c1>\u001b[0m in \u001b[0;36mshow_in_matplotlib\u001b[1;34m(img, figsize)\u001b[0m\n\u001b[0;32m     11\u001b[0m     \u001b[0mimgRGB\u001b[0m \u001b[1;33m=\u001b[0m \u001b[0mcv\u001b[0m\u001b[1;33m.\u001b[0m\u001b[0mcvtColor\u001b[0m\u001b[1;33m(\u001b[0m\u001b[0mimg\u001b[0m\u001b[1;33m,\u001b[0m \u001b[0mcv\u001b[0m\u001b[1;33m.\u001b[0m\u001b[0mCOLOR_BGR2RGB\u001b[0m\u001b[1;33m)\u001b[0m\u001b[1;33m\u001b[0m\u001b[1;33m\u001b[0m\u001b[0m\n\u001b[0;32m     12\u001b[0m     \u001b[0mplt\u001b[0m\u001b[1;33m.\u001b[0m\u001b[0mfigure\u001b[0m\u001b[1;33m(\u001b[0m\u001b[0mfigsize\u001b[0m\u001b[1;33m=\u001b[0m\u001b[0mfigsize\u001b[0m\u001b[1;33m)\u001b[0m\u001b[1;33m\u001b[0m\u001b[1;33m\u001b[0m\u001b[0m\n\u001b[1;32m---> 13\u001b[1;33m     \u001b[0mptl\u001b[0m\u001b[1;33m.\u001b[0m\u001b[0mtitle\u001b[0m\u001b[1;33m(\u001b[0m\u001b[1;34m\"Assignment 12\"\u001b[0m\u001b[1;33m)\u001b[0m\u001b[1;33m\u001b[0m\u001b[1;33m\u001b[0m\u001b[0m\n\u001b[0m\u001b[0;32m     14\u001b[0m     \u001b[0mplt\u001b[0m\u001b[1;33m.\u001b[0m\u001b[0mimshow\u001b[0m\u001b[1;33m(\u001b[0m\u001b[0mimgRGB\u001b[0m\u001b[1;33m)\u001b[0m\u001b[1;33m\u001b[0m\u001b[1;33m\u001b[0m\u001b[0m\n\u001b[0;32m     15\u001b[0m     \u001b[0mplt\u001b[0m\u001b[1;33m.\u001b[0m\u001b[0mshow\u001b[0m\u001b[1;33m(\u001b[0m\u001b[1;33m)\u001b[0m\u001b[1;33m\u001b[0m\u001b[1;33m\u001b[0m\u001b[0m\n",
      "\u001b[1;31mNameError\u001b[0m: name 'ptl' is not defined"
     ]
    },
    {
     "data": {
      "text/plain": [
       "<Figure size 432x576 with 0 Axes>"
      ]
     },
     "metadata": {},
     "output_type": "display_data"
    }
   ],
   "source": [
    "import numpy as np\n",
    "import matplotlib.pyplot as plt\n",
    "import cv2 as cv\n",
    "\n",
    "\n",
    "img = create_canvas(height=400, width=400, bgColor=colors['LIGHT_GRAY'])\n",
    "\n",
    "pts = np.array([[150,100],[200,100],[215,140],[200,180],[150,180],[135,140]], np.int32)\n",
    "pts = pts.reshape((-1, 1, 2))\n",
    "# draw triangle\n",
    "cv.polylines(img, [pts], True, colors['BLUE'], 8)\n",
    "\n",
    "\n",
    "pts = np.array([[50,250],[100,100],[150,250]], np.int32)\n",
    "pts = pts.reshape((-1, 1, 2))\n",
    "\n",
    "# draw triangle\n",
    "cv.polylines(img, [pts], True, colors['RED'], 4)\n",
    "\n",
    "pts = np.array([[0,0],[50,100],[100,50],[150,50],[200,80],[250,75],[400,0]], np.int32)\n",
    "pts = pts.reshape((-1, 1, 2))\n",
    "# draw triangle\n",
    "cv.polylines(img, [pts], False, colors['GREEN'], 3)\n",
    "\n",
    "pts = np.array([[250,250],[300,250],[340,280],[350,320],[340,360],[300,400],[250,400],[210,360],[200,320],[210,280]], np.int32)\n",
    "pts = pts.reshape((-1, 1, 2))\n",
    "# draw triangle\n",
    "cv.polylines(img, [pts], True, colors['CYAN'], 9)\n",
    "\n",
    "\n",
    "show_in_matplotlib(img)"
   ]
  },
  {
   "cell_type": "code",
   "execution_count": null,
   "id": "f51ceb17-d5a6-486d-8c47-befb75cb5f41",
   "metadata": {},
   "outputs": [],
   "source": []
  }
 ],
 "metadata": {
  "kernelspec": {
   "display_name": "Python 3",
   "language": "python",
   "name": "python3"
  },
  "language_info": {
   "codemirror_mode": {
    "name": "ipython",
    "version": 3
   },
   "file_extension": ".py",
   "mimetype": "text/x-python",
   "name": "python",
   "nbconvert_exporter": "python",
   "pygments_lexer": "ipython3",
   "version": "3.8.8"
  }
 },
 "nbformat": 4,
 "nbformat_minor": 5
}
