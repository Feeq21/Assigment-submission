{
 "cells": [
  {
   "cell_type": "markdown",
   "id": "f6323505-51c8-48ee-9142-b3f10bdda538",
   "metadata": {},
   "source": [
    "# Assignment\n",
    "\n",
    "### 1. create an random array of shape (6x6)\n",
    "### 2. convert the array to an identity matrix"
   ]
  },
  {
   "cell_type": "code",
   "execution_count": 2,
   "id": "4ac694bc-54c3-4228-9942-4f92ae04a1be",
   "metadata": {},
   "outputs": [],
   "source": [
    "def array_properties(a, label='a'):\n",
    "    print(label, '= ')\n",
    "    print(a)\n",
    "    print(\"dim = \", a.ndim)\n",
    "    print(\"shape = \", a.shape)\n",
    "    print(\"datatype = \", a.dtype)\n",
    "    print(\"size = \", a.size)\n",
    "    print()"
   ]
  },
  {
   "cell_type": "code",
   "execution_count": 4,
   "id": "00ea671c-215f-4591-81ae-685a55cc6cf8",
   "metadata": {},
   "outputs": [
    {
     "name": "stdout",
     "output_type": "stream",
     "text": [
      "a = \n",
      "[[ 8 15 13  8 11 18]\n",
      " [11  8  7  2 17 11]\n",
      " [15  5  7  3  6  4]\n",
      " [10 11 19  7  6 10]\n",
      " [ 1  3  5  4 14  6]\n",
      " [19  2 16 14 12 18]]\n",
      "dim =  2\n",
      "shape =  (6, 6)\n",
      "datatype =  int32\n",
      "size =  36\n",
      "\n"
     ]
    }
   ],
   "source": [
    "import numpy as np\n",
    "\n",
    "np.random.seed(2)\n",
    "\n",
    "a = np.random.randint(0,20,(6,6))\n",
    "array_properties(a, 'a')"
   ]
  },
  {
   "cell_type": "code",
   "execution_count": 5,
   "id": "91c6f136-8e2f-458a-baaa-24c7a2e60168",
   "metadata": {},
   "outputs": [
    {
     "name": "stdout",
     "output_type": "stream",
     "text": [
      "a = \n",
      "[[1 0 0 0 0 0]\n",
      " [0 1 0 0 0 0]\n",
      " [0 0 1 0 0 0]\n",
      " [0 0 0 1 0 0]\n",
      " [0 0 0 0 1 0]\n",
      " [0 0 0 0 0 1]]\n",
      "dim =  2\n",
      "shape =  (6, 6)\n",
      "datatype =  int32\n",
      "size =  36\n",
      "\n"
     ]
    }
   ],
   "source": [
    "a[:]=np.identity(6)\n",
    "array_properties(a, 'a')"
   ]
  },
  {
   "cell_type": "code",
   "execution_count": null,
   "id": "69e92cf0-823b-4d4a-a045-f76b06469fd5",
   "metadata": {},
   "outputs": [],
   "source": []
  }
 ],
 "metadata": {
  "kernelspec": {
   "display_name": "Python 3",
   "language": "python",
   "name": "python3"
  },
  "language_info": {
   "codemirror_mode": {
    "name": "ipython",
    "version": 3
   },
   "file_extension": ".py",
   "mimetype": "text/x-python",
   "name": "python",
   "nbconvert_exporter": "python",
   "pygments_lexer": "ipython3",
   "version": "3.8.8"
  }
 },
 "nbformat": 4,
 "nbformat_minor": 5
}
