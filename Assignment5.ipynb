{
 "cells": [
  {
   "cell_type": "markdown",
   "id": "3997b330-4884-463e-8bb3-7c5a3f43f0ac",
   "metadata": {},
   "source": [
    "# Assignment class"
   ]
  },
  {
   "cell_type": "code",
   "execution_count": null,
   "id": "8094d17e-e88b-4750-ab06-00a51faf9c80",
   "metadata": {},
   "outputs": [],
   "source": [
    "# to define a class for student \n",
    "# have this properties name,matric no,set of course they take\n",
    "\n",
    "#also have some methods\n",
    "#1.__int__ method takes the intial properties from the user\n",
    "#2.print method to print all the information of the student in a good format\n",
    "\n",
    "#after you defined a class , make 3 object from the class and fill then with your information\n",
    "#two of your friend and print their properties using the print function of the class"
   ]
  },
  {
   "cell_type": "code",
   "execution_count": 1,
   "id": "d5f5f7e5-c4b6-4499-943f-2c6492c10bfe",
   "metadata": {},
   "outputs": [
    {
     "name": "stdin",
     "output_type": "stream",
     "text": [
      "Please enter your name:  Afiq\n",
      "Please enter your matric number:  123\n",
      "Please enter your course:  Iart\n"
     ]
    },
    {
     "name": "stdout",
     "output_type": "stream",
     "text": [
      "\n",
      "\n",
      "Student name: Afiq\n",
      "Student matric number:  123\n",
      "Student course: Iart \n",
      "\n"
     ]
    }
   ],
   "source": [
    "name =input(\"Please enter your name: \")\n",
    "matric_no =int(input(\"Please enter your matric number: \"))\n",
    "course =input(\"Please enter your course: \")\n",
    "\n",
    "class Student:\n",
    "    def __init__(self, name, matric_no, course):\n",
    "        self.name = name\n",
    "        self.matric_no = matric_no\n",
    "        self.course = course\n",
    "        \n",
    "    def myfunc(self):\n",
    "        print(\"\\n\\nStudent name: \"+ self.name)\n",
    "        print(\"Student matric number: \", self.matric_no)\n",
    "        print(\"Student course: \"+ self.course,\"\\n\")\n",
    "        \n",
    "\n",
    "s1 = Student(name,matric_no,course)\n",
    "s2 = Student(\"Ali\",456,\"Bussiness\")\n",
    "s3 = Student(\"Abu\",789,\"Design\")\n",
    "s4 = Student(\"Amir\",321,\"Automotive\")\n",
    "\n",
    "s1.myfunc()"
   ]
  },
  {
   "cell_type": "code",
   "execution_count": 2,
   "id": "c592a39a-c6a3-44e5-aa77-1ecabdd1558b",
   "metadata": {},
   "outputs": [
    {
     "name": "stdout",
     "output_type": "stream",
     "text": [
      "\n",
      "\n",
      "Student name: Ali\n",
      "Student matric number:  456\n",
      "Student course: Bussiness \n",
      "\n",
      "\n",
      "\n",
      "Student name: Abu\n",
      "Student matric number:  789\n",
      "Student course: Design \n",
      "\n",
      "\n",
      "\n",
      "Student name: Amir\n",
      "Student matric number:  321\n",
      "Student course: Automotive \n",
      "\n"
     ]
    }
   ],
   "source": [
    "s2.myfunc()\n",
    "s3.myfunc()\n",
    "s4.myfunc()"
   ]
  },
  {
   "cell_type": "markdown",
   "id": "39a4731c-3cd4-480c-85ea-c702a2f6adf6",
   "metadata": {},
   "source": [
    "# Assignment Inheritance"
   ]
  },
  {
   "cell_type": "code",
   "execution_count": 1,
   "id": "19db391a-10c9-435f-8787-a1039a636f33",
   "metadata": {},
   "outputs": [
    {
     "name": "stdin",
     "output_type": "stream",
     "text": [
      "Please enter your name:  Afiq\n",
      "Please enter your matric number:  123\n",
      "Enter number of course :  Iart\n"
     ]
    }
   ],
   "source": [
    "name =input(\"Please enter your name: \")\n",
    "matric_no =int(input(\"Please enter your matric number: \"))\n",
    "course = input(\"Enter number of course : \")\n",
    "    \n",
    "class Student:\n",
    "    def __init__(self, name, matric_no,course):\n",
    "        self.name = name\n",
    "        self.matric_no = matric_no\n",
    "        self.course = course\n",
    "        \n",
    "    def partstudent(self):\n",
    "        print(\"\\nStudent name: \"+ self.name)\n",
    "        print(\"Student matric number:\", self.matric_no)\n",
    "        print(\"Student course: \"+ self.course)\n",
    "        \n",
    "#s1 = Student(name,matric_no,course)\n",
    "#s1.partstudent()"
   ]
  },
  {
   "cell_type": "code",
   "execution_count": null,
   "id": "d8f2a527-5de7-4429-98de-9d10bc53732f",
   "metadata": {},
   "outputs": [
    {
     "name": "stdin",
     "output_type": "stream",
     "text": [
      "Enter total passed subject :  2\n",
      "Subject name:  AI\n",
      "Score:  90\n",
      "Subject name:  MV\n",
      "Score:  88\n",
      "Enter total failed subject :  2\n",
      "Subject name:  CAPM\n",
      "Score:  56\n",
      "Subject name:  TIA\n"
     ]
    }
   ],
   "source": [
    "passed={} \n",
    "n = int(input(\"Enter total passed subject : \"))\n",
    "for i in range (n):\n",
    "    keys = (input(\"Subject name: \")) \n",
    "    values = int((input(\"Score: \")))\n",
    "    passed[keys] = values\n",
    "    \n",
    "failed={} \n",
    "m = int(input(\"Enter total failed subject : \"))\n",
    "for i in range (m):\n",
    "    keys = (input(\"Subject name: \")) \n",
    "    values = int((input(\"Score: \")))\n",
    "    failed[keys] = values\n",
    "    \n",
    "p=(sum(passed.values())+sum(failed.values()))\n",
    "pl=(len(passed)+len(failed))\n",
    "average=p/pl\n",
    "\n",
    "major={'AI','MV','CAPM','TIA','Calculus'}\n",
    "req=(major.difference(passed))\n",
    "req.union(failed)\n",
    "print(req)\n",
    "\n",
    "class BSCstudent(Student):\n",
    "    def __init__(self,name,matric_no,course,passed,failed,average,major,req):\n",
    "        super().__init__(name,matric_no,course)\n",
    "        self.passed = passed\n",
    "        self.failed = failed\n",
    "        self.average = average\n",
    "        self.major = major\n",
    "        self.req = req\n",
    "                      \n",
    "    def partbachelor(self):\n",
    "        print(\"Pass and score subject is: \", self.passed)\n",
    "        print(\"Fail and score subject is: \", self.failed)\n",
    "        \n",
    "    def partaverage(self):\n",
    "        print(\"The average value is:\",self.average)\n",
    "        \n",
    "    def partrequiredsub(self):\n",
    "        print(\"Major subject: \",self.major)\n",
    "        print(\"Please take this subject: \",self.req,\"\\n\")\n",
    "        \n",
    "    def printinfo(self):\n",
    "        super().partstudent()\n",
    "        print(\"Pass and score subject is: \", self.passed)\n",
    "        print(\"Fail and score subject is: \", self.failed)\n",
    "        print(\"The average value is:\",self.average)\n",
    "        print(\"Major subject: \",self.major)\n",
    "        print(\"Please take this subject: \",self.req,\"\\n\")\n",
    "                  \n",
    "s2 = BSCstudent(name,matric_no,course,passed,failed,average,major,req)\n",
    "#s2.partbachelor()\n",
    "#s2.partstudent()\n",
    "#s2.partaverage()\n",
    "#s2.partrequiredsub()\n",
    "s2.printinfo()"
   ]
  },
  {
   "cell_type": "code",
   "execution_count": null,
   "id": "36a41095-5d58-45d0-8af3-958e0d715658",
   "metadata": {},
   "outputs": [],
   "source": []
  }
 ],
 "metadata": {
  "kernelspec": {
   "display_name": "Python 3",
   "language": "python",
   "name": "python3"
  },
  "language_info": {
   "codemirror_mode": {
    "name": "ipython",
    "version": 3
   },
   "file_extension": ".py",
   "mimetype": "text/x-python",
   "name": "python",
   "nbconvert_exporter": "python",
   "pygments_lexer": "ipython3",
   "version": "3.8.8"
  }
 },
 "nbformat": 4,
 "nbformat_minor": 5
}
