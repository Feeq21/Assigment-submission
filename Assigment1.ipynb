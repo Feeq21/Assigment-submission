{
 "cells": [
  {
   "cell_type": "markdown",
   "id": "b1d9a488-50af-42fc-9756-2f80ac992186",
   "metadata": {},
   "source": [
    "## Assigment 1"
   ]
  },
  {
   "cell_type": "markdown",
   "id": "1e40b877-a139-4854-8dd7-76364d7c1246",
   "metadata": {},
   "source": [
    "## Question 1b"
   ]
  },
  {
   "cell_type": "code",
   "execution_count": null,
   "id": "63a56ae5-2791-4388-9a9c-fe95d109264c",
   "metadata": {},
   "outputs": [],
   "source": [
    "\"\"\"\n",
    "Use python to write an application letter for job to Perantis\n",
    "\"\"\""
   ]
  },
  {
   "cell_type": "code",
   "execution_count": 38,
   "id": "e8f784e6-187e-43b3-98de-df47f14dfd89",
   "metadata": {},
   "outputs": [
    {
     "name": "stdin",
     "output_type": "stream",
     "text": [
      "Please enter receiver address:  Batu 1 Kampung Behor Temak 01000 Kangar Perlis Malaysia\n",
      "Please enter sender address:  175 Kampung Salang Malaysia Mersing Johor 86800 Malaysia\n",
      "Please enter receiver salution:  Miss\n",
      "Please enter your reveiver nick name:  Wong\n",
      "Please enter date:  15 October 2021\n",
      "Please enter your full name:  Muhammad Afiq Bin Abdullah\n",
      "Please enter your email:  claudy@gmail.com\n",
      "Please enter your phone number:  01123456212\n",
      "Please enter your position applied:  Software Engineer\n",
      "Please enter your state course name:  Bachelor Technology in Automation and Robotic\n",
      "Please enter your state university name:  Unikl Malaysia France Institute\n",
      "Please enter your town:  Kluang\n",
      "Please enter your state:  Johor\n"
     ]
    }
   ],
   "source": [
    "receiver_address= input(\"Please enter receiver address: \")\n",
    "sender_address= input(\"Please enter sender address: \")\n",
    "receiver_salutation= input(\"Please enter receiver salution: \")\n",
    "receiver_nick_name= input(\"Please enter your reveiver nick name: \")\n",
    "date= input(\"Please enter date: \")\n",
    "name= input(\"Please enter your full name: \")\n",
    "email= input(\"Please enter your email: \")\n",
    "phone_num= input(\"Please enter your phone number: \")\n",
    "position_applied= input(\"Please enter your position applied: \")\n",
    "course_name= input(\"Please enter your state course name: \")\n",
    "university_name= input(\"Please enter your state university name: \")\n",
    "town= input(\"Please enter your town: \")\n",
    "state= input(\"Please enter your state: \")"
   ]
  },
  {
   "cell_type": "code",
   "execution_count": 39,
   "id": "82794b3b-a91b-4aed-b505-aa87f8602c83",
   "metadata": {},
   "outputs": [
    {
     "name": "stdout",
     "output_type": "stream",
     "text": [
      "Batu 1 Kampung Behor Temak 01000 Kangar Perlis Malaysia \n",
      "\n",
      "__________________________________________________________________________________\n",
      "\n",
      "175 Kampung Salang Malaysia Mersing Johor 86800 Malaysia\n",
      "\n",
      "Dear Miss Wong ,\t\t\t\t\t\t 15 October 2021 \n",
      "\n",
      "\n",
      "Job Application for Software Engineer position\n",
      "\n",
      "\n",
      "With all my respect, I wish to apply for the Software Engineer position with\n",
      "Perantis. I am currently graduated in Bachelor Technology in Automation and Robotic\n",
      "at Unikl Malaysia France Institute I currently live in Kluang , Johor .\n",
      "\n",
      "I would love to talk to you in more detail regarding this amazing opportunity at\n",
      "your company. It would give me great pleasure to hear back from you regarding my\n",
      "application.\n",
      "\n",
      "Sincerely,\n",
      "\n",
      "Muhammad Afiq Bin Abdullah \n",
      "\n",
      "claudy@gmail.com\n",
      "01123456212\n"
     ]
    }
   ],
   "source": [
    "print(receiver_address,\"\\n\")\n",
    "print(\"__________________________________________________________________________________\\n\")\n",
    "print(sender_address)\n",
    "print(\"\\nDear\",receiver_salutation,receiver_nick_name,\",\\t\\t\\t\\t\\t\\t\",date,\"\\n\\n\")\n",
    "\n",
    "print(\"Job Application for\",position_applied,\"position\\n\\n\")\n",
    "print(\"With all my respect, I wish to apply for the\",position_applied,\"position with\")\n",
    "print(\"Perantis. I am currently graduated in\",course_name)\n",
    "print(\"at\",university_name,\"I currently live in\",town,\",\",state,\".\")\n",
    "\n",
    "print(\"\\nI would love to talk to you in more detail regarding this amazing opportunity at\")\n",
    "print(\"your company. It would give me great pleasure to hear back from you regarding my\")\n",
    "print(\"application.\")\n",
    "\n",
    "print(\"\\nSincerely,\\n\")\n",
    "print(name,\"\\n\")\n",
    "print(email)\n",
    "print(phone_num)"
   ]
  },
  {
   "cell_type": "markdown",
   "id": "27aca928-c0c5-4c27-9707-ff013bee2563",
   "metadata": {},
   "source": [
    "## Question 2"
   ]
  },
  {
   "cell_type": "code",
   "execution_count": null,
   "id": "3f467eb3-357d-47f8-abec-bf81527edebd",
   "metadata": {},
   "outputs": [],
   "source": [
    "\"\"\"\n",
    "Solving quadratic equation using\n",
    "\n",
    "if a=2,b=8 and c=1\n",
    "\"\"\""
   ]
  },
  {
   "cell_type": "code",
   "execution_count": 45,
   "id": "0184c31f-126f-4c6f-889c-a34d5ad0396c",
   "metadata": {},
   "outputs": [],
   "source": [
    "import cmath"
   ]
  },
  {
   "cell_type": "code",
   "execution_count": 42,
   "id": "35854581-a14f-4117-b8ea-0cd6988e1ee0",
   "metadata": {},
   "outputs": [],
   "source": [
    "a=float(2)\n",
    "b=float(8)\n",
    "c=float(1)\n"
   ]
  },
  {
   "cell_type": "code",
   "execution_count": 43,
   "id": "10b302d5-9cf1-4eef-8ca4-a05aab9d3943",
   "metadata": {},
   "outputs": [
    {
     "name": "stdout",
     "output_type": "stream",
     "text": [
      "\n",
      "Your value a is 2.0 \n",
      "Your value b is 8.0 \n",
      "Your value c is 1.0\n"
     ]
    }
   ],
   "source": [
    "print(\"\\nYour value a is\",a,\n",
    "      \"\\nYour value b is\",b,\n",
    "      \"\\nYour value c is\",c)"
   ]
  },
  {
   "cell_type": "code",
   "execution_count": 46,
   "id": "44f95a1e-3997-40f0-8b52-cfda7ab48563",
   "metadata": {},
   "outputs": [],
   "source": [
    "d = (b**2) - (4*a*c)  \n",
    "\n",
    "minus = (-b-cmath.sqrt(d))/(2*a)  \n",
    "plus = (-b+cmath.sqrt(d))/(2*a)  "
   ]
  },
  {
   "cell_type": "code",
   "execution_count": 47,
   "id": "60650584-4b0d-4579-8bd1-065e13b9e55d",
   "metadata": {},
   "outputs": [
    {
     "name": "stdout",
     "output_type": "stream",
     "text": [
      "The solution are -3.871+0.000j and -0.129+0.000j\n"
     ]
    }
   ],
   "source": [
    "print('The solution are {0:.3f} and {1:.3f}'.format(minus,plus))   "
   ]
  }
 ],
 "metadata": {
  "kernelspec": {
   "display_name": "Python 3",
   "language": "python",
   "name": "python3"
  },
  "language_info": {
   "codemirror_mode": {
    "name": "ipython",
    "version": 3
   },
   "file_extension": ".py",
   "mimetype": "text/x-python",
   "name": "python",
   "nbconvert_exporter": "python",
   "pygments_lexer": "ipython3",
   "version": "3.8.8"
  }
 },
 "nbformat": 4,
 "nbformat_minor": 5
}
