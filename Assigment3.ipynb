{
 "cells": [
  {
   "cell_type": "markdown",
   "id": "69d5a375",
   "metadata": {},
   "source": [
    "# Assignment list"
   ]
  },
  {
   "cell_type": "code",
   "execution_count": null,
   "id": "0e4ac5ca",
   "metadata": {},
   "outputs": [],
   "source": [
    "# 1.Define a list of your favourite food\n",
    "# 2.Print the list\n",
    "# 3.Print the list from the last item to the first\n",
    "# 4.Add \"Rice\" to your list\n",
    "# 5.What is index of \"Rice\"\n",
    "# 6.Sort your list \n",
    "# 7.Give the number of occurance of each food in the list\n",
    "# 8.Clear the list"
   ]
  },
  {
   "cell_type": "code",
   "execution_count": 1,
   "id": "a2bccfa5",
   "metadata": {},
   "outputs": [
    {
     "name": "stdout",
     "output_type": "stream",
     "text": [
      "['lontong', 'nasi lemak', 'roti canai', 'thosai']\n"
     ]
    }
   ],
   "source": [
    "food=[\"lontong\",\"nasi lemak\",\"roti canai\",\"thosai\"]\n",
    "print(food)"
   ]
  },
  {
   "cell_type": "code",
   "execution_count": 2,
   "id": "613f015e",
   "metadata": {},
   "outputs": [
    {
     "name": "stdout",
     "output_type": "stream",
     "text": [
      "thosai\n",
      "roti canai\n",
      "nasi lemak\n",
      "lontong\n"
     ]
    }
   ],
   "source": [
    "print(food[-1])\n",
    "print(food[-2])\n",
    "print(food[-3])\n",
    "print(food[-4])"
   ]
  },
  {
   "cell_type": "code",
   "execution_count": 3,
   "id": "01ce4184",
   "metadata": {},
   "outputs": [
    {
     "name": "stdout",
     "output_type": "stream",
     "text": [
      "['Rice', 'lontong', 'nasi lemak', 'roti canai', 'thosai']\n"
     ]
    }
   ],
   "source": [
    "food.insert(0,\"Rice\")\n",
    "print(food)"
   ]
  },
  {
   "cell_type": "code",
   "execution_count": 4,
   "id": "6e337bfb",
   "metadata": {},
   "outputs": [
    {
     "data": {
      "text/plain": [
       "0"
      ]
     },
     "execution_count": 4,
     "metadata": {},
     "output_type": "execute_result"
    }
   ],
   "source": [
    "food.index(\"Rice\")"
   ]
  },
  {
   "cell_type": "code",
   "execution_count": 5,
   "id": "f1cf7593",
   "metadata": {},
   "outputs": [
    {
     "name": "stdout",
     "output_type": "stream",
     "text": [
      "['Rice', 'lontong', 'nasi lemak', 'roti canai', 'thosai']\n"
     ]
    }
   ],
   "source": [
    "food.sort()\n",
    "print(food)"
   ]
  },
  {
   "cell_type": "code",
   "execution_count": 6,
   "id": "0ad781d2",
   "metadata": {},
   "outputs": [
    {
     "name": "stdout",
     "output_type": "stream",
     "text": [
      "['Rice', 'lontong', 'nasi lemak', 'nasi lemak', 'roti canai', 'thosai', 'roti canai']\n",
      "2\n",
      "2\n"
     ]
    }
   ],
   "source": [
    "food.insert(3,\"nasi lemak\")\n",
    "food.insert(6,\"roti canai\")\n",
    "print(food)\n",
    "print(food.count(\"nasi lemak\"))\n",
    "print(food.count(\"roti canai\"))"
   ]
  },
  {
   "cell_type": "code",
   "execution_count": 7,
   "id": "6da1d8fa",
   "metadata": {},
   "outputs": [
    {
     "name": "stdout",
     "output_type": "stream",
     "text": [
      "[]\n"
     ]
    }
   ],
   "source": [
    "food.clear()\n",
    "print(food)"
   ]
  },
  {
   "cell_type": "markdown",
   "id": "6f241ca4",
   "metadata": {},
   "source": [
    "# Assignment tuple"
   ]
  },
  {
   "cell_type": "code",
   "execution_count": null,
   "id": "74749dee",
   "metadata": {},
   "outputs": [],
   "source": [
    "# 1.get the name of user siblings from the input\n",
    "# 2.put in tuple\n",
    "# 3.print the tuple"
   ]
  },
  {
   "cell_type": "code",
   "execution_count": 8,
   "id": "a57e09af",
   "metadata": {},
   "outputs": [
    {
     "name": "stdout",
     "output_type": "stream",
     "text": [
      "Enter siblings number : 3\n",
      "afiq\n",
      "ali\n",
      "abu\n",
      "<class 'list'>\n"
     ]
    }
   ],
   "source": [
    "sib = []\n",
    "\n",
    "name = int(input(\"Enter siblings number : \"))\n",
    "for i in range (name):\n",
    "\n",
    "    new = (input())\n",
    "    sib.append(new) \n",
    "    \n",
    "print(type(sib))"
   ]
  },
  {
   "cell_type": "code",
   "execution_count": 9,
   "id": "37ad5ee9",
   "metadata": {},
   "outputs": [
    {
     "name": "stdout",
     "output_type": "stream",
     "text": [
      "('afiq', 'ali', 'abu')\n",
      "<class 'tuple'>\n"
     ]
    }
   ],
   "source": [
    "tupl=tuple(sib) \n",
    "print(tupl) \n",
    "print(type(tupl))"
   ]
  },
  {
   "cell_type": "markdown",
   "id": "f15bf3d5",
   "metadata": {},
   "source": [
    "# Assignment set"
   ]
  },
  {
   "cell_type": "code",
   "execution_count": 10,
   "id": "0ab3abe5",
   "metadata": {},
   "outputs": [
    {
     "name": "stdout",
     "output_type": "stream",
     "text": [
      "Passed subject:  {'Embedded', 'Calculus'}\n"
     ]
    }
   ],
   "source": [
    "course = {\"Calculus\",\"C-programming\",\"Embedded\",\"Circuit design\"}\n",
    "\n",
    "pas = {\"Calculus\",\"Embedded\"}\n",
    "\n",
    "pas.intersection(course)\n",
    "print(\"Passed subject: \", pas)"
   ]
  },
  {
   "cell_type": "code",
   "execution_count": 11,
   "id": "4631ca48",
   "metadata": {},
   "outputs": [
    {
     "name": "stdout",
     "output_type": "stream",
     "text": [
      "Not passed subject:  {'C-programming', 'Circuit design'}\n"
     ]
    }
   ],
   "source": [
    "nopas=(course.difference(pas))\n",
    "print(\"Not passed subject: \",nopas)"
   ]
  },
  {
   "cell_type": "code",
   "execution_count": 12,
   "id": "e385e145",
   "metadata": {},
   "outputs": [
    {
     "name": "stdout",
     "output_type": "stream",
     "text": [
      "{'C-programming', 'Embedded', 'Circuit design', 'Calculus'}\n"
     ]
    }
   ],
   "source": [
    "print(pas.union(nopas))"
   ]
  },
  {
   "cell_type": "code",
   "execution_count": 14,
   "id": "e1d5a727",
   "metadata": {},
   "outputs": [
    {
     "name": "stdout",
     "output_type": "stream",
     "text": [
      "{'Embedded', 'Calculus'}\n"
     ]
    }
   ],
   "source": [
    "pas.intersection_update(course)\n",
    "print(pas)"
   ]
  },
  {
   "cell_type": "markdown",
   "id": "655f9a89",
   "metadata": {},
   "source": [
    "# Assignment dict"
   ]
  },
  {
   "cell_type": "code",
   "execution_count": 18,
   "id": "3c25be22",
   "metadata": {},
   "outputs": [],
   "source": [
    "lang ={\"sifar\":\"zero\",\"satu\":\"one\",\"dua\":\"two\"\n",
    "     ,\"tiga\":\"three\",\"empat\":\"four\",\"lima\":\"five\"}\n",
    "s={\"zero\",\"one\",\"two\",\"three\",\"four\",\"five\",\"six\",\"seven\",\"eight\",\"nine\",\"ten\"} "
   ]
  },
  {
   "cell_type": "code",
   "execution_count": 19,
   "id": "10d21e0c",
   "metadata": {},
   "outputs": [
    {
     "name": "stdout",
     "output_type": "stream",
     "text": [
      "Enter number spelling in Malay: enam\n",
      "Not in dictionary, please update\n",
      "Please insert the tranlate: six\n",
      "Update is complete, thank you\n",
      "{'sifar': 'zero', 'satu': 'one', 'dua': 'two', 'tiga': 'three', 'empat': 'four', 'lima': 'five', 'enam': 'six'}\n"
     ]
    }
   ],
   "source": [
    "x=input(\"Enter number spelling in Malay: \")\n",
    "\n",
    "if x in lang:\n",
    "    print(\"The translate is\",lang[x])\n",
    "\n",
    "else:\n",
    "    print(\"Not in dictionary, please update\")\n",
    "    keys = x \n",
    "    values = (input(\"Please insert the tranlate: \"))\n",
    "    lang[keys] = values\n",
    "    print(\"Update is complete, thank you\")\n",
    "    print(lang)    "
   ]
  },
  {
   "cell_type": "markdown",
   "id": "582e407b",
   "metadata": {},
   "source": [
    "# Assigment (while and for loop)"
   ]
  },
  {
   "cell_type": "markdown",
   "id": "e151845f",
   "metadata": {},
   "source": [
    "### While loop"
   ]
  },
  {
   "cell_type": "code",
   "execution_count": 24,
   "id": "bda1e9c9",
   "metadata": {
    "scrolled": true
   },
   "outputs": [
    {
     "name": "stdout",
     "output_type": "stream",
     "text": [
      "Please any random number: 4\n",
      "1\n",
      "3\n",
      "6\n",
      "10\n",
      "The sum is:  10\n"
     ]
    }
   ],
   "source": [
    "n=int(input(\"Please any random number: \"))\n",
    "i=1\n",
    "s=0\n",
    "\n",
    "while(i<=n):\n",
    "\n",
    "    s=s+i\n",
    "    i=i+1\n",
    "    print(s)\n",
    "\n",
    "print(\"The sum is: \",s)"
   ]
  },
  {
   "cell_type": "markdown",
   "id": "0ff03d81",
   "metadata": {},
   "source": [
    "### For loop"
   ]
  },
  {
   "cell_type": "code",
   "execution_count": 23,
   "id": "ed60600a",
   "metadata": {},
   "outputs": [
    {
     "name": "stdout",
     "output_type": "stream",
     "text": [
      "Please any random number: 4\n",
      "1\n",
      "3\n",
      "6\n",
      "10\n",
      "The sum is:  10\n"
     ]
    }
   ],
   "source": [
    "n=int(input(\"Please any random number: \"))\n",
    "s=0\n",
    "\n",
    "for i in range(1,n+1):\n",
    "    s+=i\n",
    "    print(s)\n",
    "    \n",
    "print(\"The sum is: \",s) "
   ]
  },
  {
   "cell_type": "code",
   "execution_count": null,
   "id": "3f1121ff",
   "metadata": {},
   "outputs": [],
   "source": []
  }
 ],
 "metadata": {
  "kernelspec": {
   "display_name": "Python 3",
   "language": "python",
   "name": "python3"
  },
  "language_info": {
   "codemirror_mode": {
    "name": "ipython",
    "version": 3
   },
   "file_extension": ".py",
   "mimetype": "text/x-python",
   "name": "python",
   "nbconvert_exporter": "python",
   "pygments_lexer": "ipython3",
   "version": "3.8.8"
  }
 },
 "nbformat": 4,
 "nbformat_minor": 5
}
