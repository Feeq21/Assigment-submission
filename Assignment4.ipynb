{
 "cells": [
  {
   "cell_type": "markdown",
   "id": "c7232db8",
   "metadata": {},
   "source": [
    "# Assignment (Recursive function)"
   ]
  },
  {
   "cell_type": "code",
   "execution_count": null,
   "id": "b0146412",
   "metadata": {},
   "outputs": [],
   "source": [
    "#series number 1+2+3+4....n"
   ]
  },
  {
   "cell_type": "code",
   "execution_count": 43,
   "id": "26bba82c-eff5-4372-9d9f-404d95a169ff",
   "metadata": {},
   "outputs": [
    {
     "name": "stdin",
     "output_type": "stream",
     "text": [
      "Please any random number:  4\n"
     ]
    },
    {
     "name": "stdout",
     "output_type": "stream",
     "text": [
      "1\n",
      "3\n",
      "6\n",
      "10\n",
      "The sum is:  10\n"
     ]
    }
   ],
   "source": [
    "n=int(input(\"Please any random number: \"))\n",
    "s=0\n",
    "\n",
    "for i in range(1,n+1):\n",
    "    s+=i\n",
    "    print(s)\n",
    "    \n",
    "print(\"The sum is: \",s) "
   ]
  },
  {
   "cell_type": "code",
   "execution_count": 42,
   "id": "fbb2bdc8-ca21-4bd2-a4f6-863453b04752",
   "metadata": {},
   "outputs": [
    {
     "name": "stdin",
     "output_type": "stream",
     "text": [
      "Please enter any random value:  4\n"
     ]
    },
    {
     "name": "stdout",
     "output_type": "stream",
     "text": [
      "The result: \n",
      "1\n",
      "3\n",
      "6\n",
      "10\n",
      "The sum is:  10\n"
     ]
    }
   ],
   "source": [
    "def recur(n):\n",
    "    if n <= 1:\n",
    "        return n\n",
    "    else:\n",
    "        return n + recur(n-1) \n",
    "    \n",
    "nterms = int(input(\"Please enter any random value: \"))\n",
    "\n",
    "print(\"The result: \")\n",
    "for i in range(1,nterms+1):\n",
    "    print(recur(i))\n",
    "    \n",
    "print(\"The sum is: \",recur(i)) "
   ]
  },
  {
   "cell_type": "markdown",
   "id": "5799f5e0",
   "metadata": {},
   "source": [
    "# Assignment (Fibonacci sequence)"
   ]
  },
  {
   "cell_type": "code",
   "execution_count": null,
   "id": "1485d7c3",
   "metadata": {},
   "outputs": [],
   "source": [
    "#without recursive and recursive"
   ]
  },
  {
   "cell_type": "code",
   "execution_count": 1,
   "id": "a002e702-e326-40a5-89e8-2ed342c0c174",
   "metadata": {},
   "outputs": [
    {
     "name": "stdin",
     "output_type": "stream",
     "text": [
      "Please enter any positive value:  6\n"
     ]
    },
    {
     "name": "stdout",
     "output_type": "stream",
     "text": [
      "Fibonacci sequence: \n",
      "0\n",
      "1\n",
      "1\n",
      "2\n",
      "3\n",
      "5\n"
     ]
    }
   ],
   "source": [
    "nterms = int(input(\"Please enter any positive value: \"))\n",
    "\n",
    "n1, n2 = 0, 1\n",
    "count = 0\n",
    "\n",
    "print(\"Fibonacci sequence: \")\n",
    "while count < nterms:\n",
    "    print(n1)\n",
    "    nth = n1 + n2\n",
    "    n1 = n2\n",
    "    n2 = nth\n",
    "    count += 1"
   ]
  },
  {
   "cell_type": "code",
   "execution_count": 28,
   "id": "3d34b0dc-32c9-4f36-a605-6964d5b37f40",
   "metadata": {},
   "outputs": [
    {
     "name": "stdin",
     "output_type": "stream",
     "text": [
      "Please enter any positive value:  6\n"
     ]
    },
    {
     "name": "stdout",
     "output_type": "stream",
     "text": [
      "Fibonacci sequence: \n",
      "0\n",
      "1\n",
      "1\n",
      "2\n",
      "3\n",
      "5\n"
     ]
    }
   ],
   "source": [
    "def fibo(n):\n",
    "    if n <= 1:\n",
    "        return n\n",
    "    else:\n",
    "        return(fibo(n-1) + fibo(n-2))\n",
    "\n",
    "nterms = int(input(\"Please enter any positive value: \"))\n",
    "\n",
    "print(\"Fibonacci sequence: \")\n",
    "for i in range(nterms):\n",
    "    print(fibo(i))"
   ]
  },
  {
   "cell_type": "markdown",
   "id": "b0184453",
   "metadata": {},
   "source": [
    "# Assignment (Lambda) "
   ]
  },
  {
   "cell_type": "code",
   "execution_count": 1,
   "id": "6744926f",
   "metadata": {},
   "outputs": [
    {
     "name": "stdout",
     "output_type": "stream",
     "text": [
      "The answer is 64\n"
     ]
    }
   ],
   "source": [
    "#Equation is x(x^2)+2(y)+z\n",
    "\n",
    "x= lambda x,y,z : (x**2*2)+(2*y)+(2)\n",
    "print(\"The answer is\",x(5,6,2))"
   ]
  },
  {
   "cell_type": "markdown",
   "id": "7ae3b359",
   "metadata": {},
   "source": [
    "# Assignment (Other build in module)"
   ]
  },
  {
   "cell_type": "code",
   "execution_count": 56,
   "id": "ba9ad5dd-7393-4bf5-a4d1-349f691a62f3",
   "metadata": {},
   "outputs": [],
   "source": [
    "import datetime\n",
    "import math\n",
    "import json\n",
    "import camelcase\n",
    "import matplotlib.pyplot as plt\n",
    "import numpy as np"
   ]
  },
  {
   "cell_type": "code",
   "execution_count": 54,
   "id": "758a3759",
   "metadata": {},
   "outputs": [
    {
     "name": "stdout",
     "output_type": "stream",
     "text": [
      "2021-10-21 22:05:22.864754\n",
      "8.0\n",
      "64\n",
      "3.141592653589793\n",
      "30\n",
      "Hello World\n",
      "['CamelCase', '__builtins__', '__cached__', '__doc__', '__file__', '__loader__', '__name__', '__package__', '__path__', '__spec__', 'main']\n"
     ]
    }
   ],
   "source": [
    "x = datetime.datetime.now()\n",
    "print(x)\n",
    "\n",
    "x= math.sqrt(64)\n",
    "print(x)\n",
    "y = pow(4, 3)\n",
    "print(y)\n",
    "z = math.pi\n",
    "print(z)\n",
    "\n",
    "x =  '{ \"name\":\"John\", \"age\":30, \"city\":\"New York\"}'\n",
    "y = json.loads(x)\n",
    "print(y[\"city\"])\n",
    "\n",
    "c = camelcase.CamelCase()\n",
    "txt = \"hello world\"\n",
    "print(c.hump(txt))\n",
    "print(dir(camelcase))"
   ]
  },
  {
   "cell_type": "code",
   "execution_count": 57,
   "id": "fb071b75-46bb-456c-97d8-ba40a39c68cd",
   "metadata": {},
   "outputs": [
    {
     "data": {
      "image/png": "[encoded data removed]",
      "text/plain": [
       "<Figure size 432x288 with 1 Axes>"
      ]
     },
     "metadata": {
      "needs_background": "light"
     },
     "output_type": "display_data"
    }
   ],
   "source": [
    "xpoints = np.array([0, 6])\n",
    "ypoints = np.array([0, 250])\n",
    "\n",
    "plt.plot(xpoints, ypoints)\n",
    "plt.show()"
   ]
  },
  {
   "cell_type": "markdown",
   "id": "1f50c313",
   "metadata": {},
   "source": [
    "# Assignment (Create a module and import function)"
   ]
  },
  {
   "cell_type": "code",
   "execution_count": 19,
   "id": "cd9cd7b6",
   "metadata": {},
   "outputs": [
    {
     "name": "stdout",
     "output_type": "stream",
     "text": [
      "Hello Afiq\n"
     ]
    }
   ],
   "source": [
    "import os\n",
    "\n",
    "from afiqpackage import greet #short the name\n",
    "\n",
    "greet.greeting(\"Afiq\")"
   ]
  },
  {
   "cell_type": "code",
   "execution_count": 24,
   "id": "4dbe1906-8d26-4876-89ba-6e4def937258",
   "metadata": {},
   "outputs": [
    {
     "name": "stdout",
     "output_type": "stream",
     "text": [
      "1\n",
      "2\n",
      "3\n",
      "4\n",
      "5\n",
      "6\n",
      "Finally finished!\n"
     ]
    }
   ],
   "source": [
    "import os\n",
    "\n",
    "from afiqpackage import count\n",
    "\n",
    "count.Count(6)"
   ]
  },
  {
   "cell_type": "markdown",
   "id": "054cd2f7-6b63-4e7f-9a30-1d5687369b1b",
   "metadata": {},
   "source": [
    "# File handling (create,write,read and delete)"
   ]
  },
  {
   "cell_type": "code",
   "execution_count": 1,
   "id": "5eaaea33-feaa-4ee7-a825-52887ef27c7c",
   "metadata": {},
   "outputs": [
    {
     "name": "stdin",
     "output_type": "stream",
     "text": [
      "Please enter file name:  testing1\n"
     ]
    }
   ],
   "source": [
    "nf = input(\"Please enter file name: \")\n",
    "f = open(nf, \"w\")"
   ]
  },
  {
   "cell_type": "code",
   "execution_count": 2,
   "id": "a83db0b2-ce33-4002-b20d-59763f79fa94",
   "metadata": {},
   "outputs": [
    {
     "name": "stdin",
     "output_type": "stream",
     "text": [
      "Please enter any text:  hello\n"
     ]
    }
   ],
   "source": [
    "txt=input(\"Please enter any text: \")\n",
    "f.write(txt)\n",
    "f.close()"
   ]
  },
  {
   "cell_type": "code",
   "execution_count": 3,
   "id": "91ccf36e-2983-4ce7-8527-6a805c9d067b",
   "metadata": {},
   "outputs": [
    {
     "name": "stdout",
     "output_type": "stream",
     "text": [
      "hello\n"
     ]
    }
   ],
   "source": [
    "f = open(nf, \"r\")\n",
    "print(f.read())\n",
    "f.close()"
   ]
  },
  {
   "cell_type": "code",
   "execution_count": 10,
   "id": "82355321-0f99-4ba7-b8ca-2dcb6e4979a6",
   "metadata": {},
   "outputs": [
    {
     "name": "stdout",
     "output_type": "stream",
     "text": [
      "The file does not exist\n"
     ]
    }
   ],
   "source": [
    "import os\n",
    "if os.path.exists('hello'):\n",
    "    os.remove('hello')\n",
    "else:\n",
    "    print(\"The file does not exist\")"
   ]
  },
  {
   "cell_type": "code",
   "execution_count": 4,
   "id": "a31aa6d9-a0db-432a-98c0-f40579bd52bb",
   "metadata": {},
   "outputs": [],
   "source": [
    "import os\n",
    "\n",
    "from afiqpackage import filehandling\n",
    "\n",
    "filehandling.Create(\"testing2.txt\")"
   ]
  },
  {
   "cell_type": "code",
   "execution_count": 7,
   "id": "d64204ee-c2e5-4bcf-b2dc-c0d81bc1b5f6",
   "metadata": {},
   "outputs": [
    {
     "ename": "NameError",
     "evalue": "name 'file' is not defined",
     "output_type": "error",
     "traceback": [
      "\u001b[1;31m---------------------------------------------------------------------------\u001b[0m",
      "\u001b[1;31mNameError\u001b[0m                                 Traceback (most recent call last)",
      "\u001b[1;32m<ipython-input-7-ddaffd21dfec>\u001b[0m in \u001b[0;36m<module>\u001b[1;34m\u001b[0m\n\u001b[1;32m----> 1\u001b[1;33m \u001b[0mfilehandling\u001b[0m\u001b[1;33m.\u001b[0m\u001b[0mWrite\u001b[0m\u001b[1;33m(\u001b[0m\u001b[0mfile\u001b[0m\u001b[1;33m)\u001b[0m\u001b[1;33m\u001b[0m\u001b[1;33m\u001b[0m\u001b[0m\n\u001b[0m",
      "\u001b[1;31mNameError\u001b[0m: name 'file' is not defined"
     ]
    }
   ],
   "source": [
    "filehandling.Write(\"hello\")"
   ]
  },
  {
   "cell_type": "code",
   "execution_count": 6,
   "id": "b3e5c7c3-f07a-4e19-afaf-b1b09026e070",
   "metadata": {},
   "outputs": [
    {
     "ename": "NameError",
     "evalue": "name 'text' is not defined",
     "output_type": "error",
     "traceback": [
      "\u001b[1;31m---------------------------------------------------------------------------\u001b[0m",
      "\u001b[1;31mNameError\u001b[0m                                 Traceback (most recent call last)",
      "\u001b[1;32m<ipython-input-6-10e17330c76a>\u001b[0m in \u001b[0;36m<module>\u001b[1;34m\u001b[0m\n\u001b[1;32m----> 1\u001b[1;33m \u001b[0mfilehandling\u001b[0m\u001b[1;33m.\u001b[0m\u001b[0mRead\u001b[0m\u001b[1;33m(\u001b[0m\u001b[1;34m\"testing2\"\u001b[0m\u001b[1;33m)\u001b[0m\u001b[1;33m\u001b[0m\u001b[1;33m\u001b[0m\u001b[0m\n\u001b[0m",
      "\u001b[1;32mD:\\KOTOCLASS\\firstmonth\\cv-master\\workbook\\afiqpackage\\filehandling.py\u001b[0m in \u001b[0;36mRead\u001b[1;34m(read)\u001b[0m\n\u001b[0;32m      8\u001b[0m \u001b[1;33m\u001b[0m\u001b[0m\n\u001b[0;32m      9\u001b[0m \u001b[1;32mdef\u001b[0m \u001b[0mRead\u001b[0m \u001b[1;33m(\u001b[0m\u001b[0mread\u001b[0m\u001b[1;33m)\u001b[0m\u001b[1;33m:\u001b[0m\u001b[1;33m\u001b[0m\u001b[1;33m\u001b[0m\u001b[0m\n\u001b[1;32m---> 10\u001b[1;33m     \u001b[0mf\u001b[0m \u001b[1;33m=\u001b[0m \u001b[0mopen\u001b[0m\u001b[1;33m(\u001b[0m\u001b[0mtext\u001b[0m\u001b[1;33m,\u001b[0m \u001b[1;34m\"r\"\u001b[0m\u001b[1;33m)\u001b[0m\u001b[1;33m\u001b[0m\u001b[1;33m\u001b[0m\u001b[0m\n\u001b[0m\u001b[0;32m     11\u001b[0m     \u001b[0mprint\u001b[0m\u001b[1;33m(\u001b[0m\u001b[0mf\u001b[0m\u001b[1;33m.\u001b[0m\u001b[0mread\u001b[0m\u001b[1;33m(\u001b[0m\u001b[1;33m)\u001b[0m\u001b[1;33m)\u001b[0m\u001b[1;33m\u001b[0m\u001b[1;33m\u001b[0m\u001b[0m\n\u001b[0;32m     12\u001b[0m     \u001b[0mf\u001b[0m\u001b[1;33m.\u001b[0m\u001b[0mclose\u001b[0m\u001b[1;33m(\u001b[0m\u001b[1;33m)\u001b[0m\u001b[1;33m\u001b[0m\u001b[1;33m\u001b[0m\u001b[0m\n",
      "\u001b[1;31mNameError\u001b[0m: name 'text' is not defined"
     ]
    }
   ],
   "source": [
    "filehandling.Read(\"testing2\")"
   ]
  },
  {
   "cell_type": "code",
   "execution_count": 9,
   "id": "2d8f6631-fdf6-4ed2-bb8f-072c34c54168",
   "metadata": {},
   "outputs": [
    {
     "ename": "NameError",
     "evalue": "name 'nf' is not defined",
     "output_type": "error",
     "traceback": [
      "\u001b[1;31m---------------------------------------------------------------------------\u001b[0m",
      "\u001b[1;31mNameError\u001b[0m                                 Traceback (most recent call last)",
      "\u001b[1;32m<ipython-input-9-b1e28d168440>\u001b[0m in \u001b[0;36m<module>\u001b[1;34m\u001b[0m\n\u001b[0;32m      3\u001b[0m \u001b[1;32mfrom\u001b[0m \u001b[0mafiqpackage\u001b[0m \u001b[1;32mimport\u001b[0m \u001b[0mdestroy\u001b[0m\u001b[1;33m\u001b[0m\u001b[1;33m\u001b[0m\u001b[0m\n\u001b[0;32m      4\u001b[0m \u001b[1;33m\u001b[0m\u001b[0m\n\u001b[1;32m----> 5\u001b[1;33m \u001b[0mdestroy\u001b[0m\u001b[1;33m.\u001b[0m\u001b[0mDelete\u001b[0m\u001b[1;33m(\u001b[0m\u001b[1;34m\"testing2.txt\"\u001b[0m\u001b[1;33m)\u001b[0m\u001b[1;33m\u001b[0m\u001b[1;33m\u001b[0m\u001b[0m\n\u001b[0m",
      "\u001b[1;32mD:\\KOTOCLASS\\firstmonth\\cv-master\\workbook\\afiqpackage\\destroy.py\u001b[0m in \u001b[0;36mDelete\u001b[1;34m(delete)\u001b[0m\n\u001b[0;32m      1\u001b[0m \u001b[1;32mdef\u001b[0m \u001b[0mDelete\u001b[0m \u001b[1;33m(\u001b[0m\u001b[0mdelete\u001b[0m\u001b[1;33m)\u001b[0m\u001b[1;33m:\u001b[0m\u001b[1;33m\u001b[0m\u001b[1;33m\u001b[0m\u001b[0m\n\u001b[0;32m      2\u001b[0m     \u001b[1;32mimport\u001b[0m \u001b[0mos\u001b[0m\u001b[1;33m\u001b[0m\u001b[1;33m\u001b[0m\u001b[0m\n\u001b[1;32m----> 3\u001b[1;33m     \u001b[1;32mif\u001b[0m \u001b[0mos\u001b[0m\u001b[1;33m.\u001b[0m\u001b[0mpath\u001b[0m\u001b[1;33m.\u001b[0m\u001b[0mexists\u001b[0m\u001b[1;33m(\u001b[0m\u001b[0mdelete\u001b[0m\u001b[1;33m)\u001b[0m\u001b[1;33m:\u001b[0m\u001b[1;33m\u001b[0m\u001b[1;33m\u001b[0m\u001b[0m\n\u001b[0m\u001b[0;32m      4\u001b[0m         \u001b[0mos\u001b[0m\u001b[1;33m.\u001b[0m\u001b[0mremove\u001b[0m\u001b[1;33m(\u001b[0m\u001b[0mdelete\u001b[0m\u001b[1;33m)\u001b[0m\u001b[1;33m\u001b[0m\u001b[1;33m\u001b[0m\u001b[0m\n\u001b[0;32m      5\u001b[0m     \u001b[1;32melse\u001b[0m\u001b[1;33m:\u001b[0m\u001b[1;33m\u001b[0m\u001b[1;33m\u001b[0m\u001b[0m\n",
      "\u001b[1;31mNameError\u001b[0m: name 'nf' is not defined"
     ]
    }
   ],
   "source": [
    "import os\n",
    "\n",
    "from afiqpackage import destroy\n",
    "\n",
    "destroy.Delete(\"testing2.txt\")"
   ]
  },
  {
   "cell_type": "code",
   "execution_count": null,
   "id": "d6fcb6fe-8ed6-408a-80a1-2e54748e2494",
   "metadata": {},
   "outputs": [],
   "source": []
  },
  {
   "cell_type": "code",
   "execution_count": null,
   "id": "bd9b54c9-7b4b-4c2a-80de-21537622b322",
   "metadata": {},
   "outputs": [],
   "source": []
  }
 ],
 "metadata": {
  "kernelspec": {
   "display_name": "Python 3",
   "language": "python",
   "name": "python3"
  },
  "language_info": {
   "codemirror_mode": {
    "name": "ipython",
    "version": 3
   },
   "file_extension": ".py",
   "mimetype": "text/x-python",
   "name": "python",
   "nbconvert_exporter": "python",
   "pygments_lexer": "ipython3",
   "version": "3.8.8"
  }
 },
 "nbformat": 4,
 "nbformat_minor": 5
}
