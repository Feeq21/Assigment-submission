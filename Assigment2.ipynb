{
 "cells": [
  {
   "cell_type": "markdown",
   "id": "ddb4bd1c-2318-42a9-9993-f9b12f4f30b4",
   "metadata": {},
   "source": [
    "Exercise String Methods and Functions \n",
    "Dr.Elijah \n",
    "page 73-84"
   ]
  },
  {
   "cell_type": "markdown",
   "id": "177d46a5-dd74-49d3-8ab9-f05fb0ba79ca",
   "metadata": {},
   "source": [
    "Capitalizes first letter of string"
   ]
  },
  {
   "cell_type": "code",
   "execution_count": 2,
   "id": "57e5b4b1-219d-4b5d-84c9-e52fef8cc0db",
   "metadata": {},
   "outputs": [
    {
     "name": "stdout",
     "output_type": "stream",
     "text": [
      "This is string example....wow!!!\n"
     ]
    }
   ],
   "source": [
    "str1 = \"this is string example....wow!!!\"\n",
    "print (str1.capitalize())"
   ]
  },
  {
   "cell_type": "markdown",
   "id": "5edb4946-9f3c-4003-8417-36d6d3c4d492",
   "metadata": {},
   "source": [
    "Center(width, fillchar) "
   ]
  },
  {
   "cell_type": "code",
   "execution_count": 3,
   "id": "8ce702a6-849b-418f-92c5-1685fc887a12",
   "metadata": {},
   "outputs": [
    {
     "name": "stdout",
     "output_type": "stream",
     "text": [
      "aaaathis is string example....wow!!!aaaa\n"
     ]
    }
   ],
   "source": [
    "str1 = \"this is string example....wow!!!\"\n",
    "print (str1.center(40, 'a'))"
   ]
  },
  {
   "cell_type": "markdown",
   "id": "5b38ccf4-9735-4157-ac5d-fbd570290cb0",
   "metadata": {},
   "source": [
    "count(str, beg= 0,end=len(string)) \n",
    "\n",
    "sub − This is the substring to be searched. \n",
    "start − Search starts from this index. First character starts from 0 index. By default search starts from 0 index. \n",
    "end − Search ends from this index. First character starts from 0 index. By default search ends at the last index. "
   ]
  },
  {
   "cell_type": "code",
   "execution_count": 30,
   "id": "51e0ff40-2dc5-4e3e-80c8-b391eb413279",
   "metadata": {},
   "outputs": [
    {
     "name": "stdout",
     "output_type": "stream",
     "text": [
      "str1.count(sub, 2, 40) :  4\n"
     ]
    }
   ],
   "source": [
    "str1 = \"this is string example....wow is wow!!!\"\n",
    "sub = \"i\"\n",
    "print (\"str1.count(sub, 2, 40) : \", str1.count(sub, 2, 40)) "
   ]
  },
  {
   "cell_type": "code",
   "execution_count": 31,
   "id": "7509da31-e455-4777-93bf-8d685331b726",
   "metadata": {},
   "outputs": [
    {
     "name": "stdout",
     "output_type": "stream",
     "text": [
      "str1.count(sub) :  2\n"
     ]
    }
   ],
   "source": [
    "sub = \"wow\"; \n",
    "print (\"str1.count(sub) : \", str1.count(sub)) "
   ]
  },
  {
   "cell_type": "markdown",
   "id": "4cbc48f3-96be-4e98-877b-c00e935fdce8",
   "metadata": {},
   "source": [
    "bytes.decode(encoding=\"utf-8\", \n",
    "errors=\"strict\") "
   ]
  },
  {
   "cell_type": "markdown",
   "id": "b9c3fde8-b264-4b1a-af4a-a38e9ee9565d",
   "metadata": {},
   "source": [
    "bytes.decode(encoding=\"utf-8\", \n",
    "errors=\"strict\") "
   ]
  },
  {
   "cell_type": "code",
   "execution_count": 38,
   "id": "8c9fbc17-d45a-4595-b9b4-9d0a3d1e0ca2",
   "metadata": {},
   "outputs": [
    {
     "name": "stdout",
     "output_type": "stream",
     "text": [
      "<class 'bytes'>\n",
      "b'D\\xc3\\xbcsseldorf'\n"
     ]
    }
   ],
   "source": [
    "city = \"Düsseldorf\"\n",
    "utf8_encoded = city.encode('utf-8')\n",
    "print(type(utf8_encoded))  \n",
    "print(utf8_encoded)  # b'D\\xc3\\xbcsseldorf'"
   ]
  },
  {
   "cell_type": "code",
   "execution_count": 39,
   "id": "d55c1bfb-7784-4dd2-85d4-bec6d9203b7a",
   "metadata": {},
   "outputs": [
    {
     "name": "stdout",
     "output_type": "stream",
     "text": [
      "<class 'str'>\n",
      "Düsseldorf\n"
     ]
    }
   ],
   "source": [
    "decoded_city = utf8_encoded.decode('utf-8')\n",
    "print(type(decoded_city))\n",
    "print(decoded_city)"
   ]
  },
  {
   "cell_type": "markdown",
   "id": "d3a0e6fa-1f8f-44f7-99f3-15bbc5ae8514",
   "metadata": {},
   "source": [
    "str.encode(encoding=\"utf-8\", errors=\"strict\")"
   ]
  },
  {
   "cell_type": "code",
   "execution_count": 44,
   "id": "ef6c735c-967f-46f4-b613-2700b9d8aa5e",
   "metadata": {},
   "outputs": [
    {
     "name": "stdout",
     "output_type": "stream",
     "text": [
      "<class 'bytes'>\n",
      "b'This wow D\\xc3\\xbcsseldor'\n"
     ]
    }
   ],
   "source": [
    "city = \"Düsseldor\"\n",
    "utf8_encoded = city.encode('utf-8')\n",
    "print(type(utf8_encoded))\n",
    "print(utf8_encoded) "
   ]
  },
  {
   "cell_type": "code",
   "execution_count": 41,
   "id": "30c8fa41-cf8f-4e15-8df7-161d0bf0ee58",
   "metadata": {},
   "outputs": [
    {
     "name": "stdout",
     "output_type": "stream",
     "text": [
      "<class 'str'>\n",
      "Düsseldorf\n"
     ]
    }
   ],
   "source": [
    "decoded_city = utf8_encoded.decode('utf-8')\n",
    "print(type(decoded_city))\n",
    "print(decoded_city) "
   ]
  },
  {
   "cell_type": "markdown",
   "id": "a9695f4b-c59a-42ac-a2db-877db1799880",
   "metadata": {},
   "source": [
    "endswith(suffix, beg=0, end=len(string))"
   ]
  },
  {
   "cell_type": "code",
   "execution_count": 57,
   "id": "70677c3b-aa62-4e00-8de3-763953afb483",
   "metadata": {},
   "outputs": [
    {
     "name": "stdout",
     "output_type": "stream",
     "text": [
      "32\n",
      "True\n",
      "True\n"
     ]
    }
   ],
   "source": [
    "str1 = \"this is string example....wow!!!\"\n",
    "suffix = \"wow!!!\"\n",
    "print(len(str1))\n",
    "print (str1.endswith(suffix))\n",
    "print (str1.endswith(suffix,20))"
   ]
  },
  {
   "cell_type": "code",
   "execution_count": 62,
   "id": "1e18758e-dddf-43cb-a7e9-e6e3a92df4eb",
   "metadata": {},
   "outputs": [
    {
     "name": "stdout",
     "output_type": "stream",
     "text": [
      "True\n",
      "True\n"
     ]
    }
   ],
   "source": [
    "suffix = \"is\"\n",
    "print (str1.endswith(suffix, 2, 4))\n",
    "print (str1.endswith(suffix, 2, 7))"
   ]
  },
  {
   "cell_type": "code",
   "execution_count": 1,
   "id": "ab53d7c5-95de-4a45-8304-f89cc78b6ac5",
   "metadata": {},
   "outputs": [
    {
     "name": "stdout",
     "output_type": "stream",
     "text": [
      "Original string: this is string example....wow!!!\n",
      "Defualt exapanded tab: this is string example....wow!!!\n",
      "Double exapanded tab: this is string example....wow!!!\n"
     ]
    }
   ],
   "source": [
    "str1 = \"this is string example....wow!!!\"\n",
    "print (\"Original string: \" + str1) \n",
    "print (\"Defualt exapanded tab: \" +  str1.expandtabs()) \n",
    "print (\"Double exapanded tab: \" +  str1.expandtabs(60)) "
   ]
  },
  {
   "cell_type": "code",
   "execution_count": 5,
   "id": "cd641128-7e83-4413-b9c0-4eeb4e0ccdd0",
   "metadata": {},
   "outputs": [
    {
     "name": "stdout",
     "output_type": "stream",
     "text": [
      "15\n",
      "15\n",
      "-1\n"
     ]
    }
   ],
   "source": [
    "str1 = \"this is string example....wow!!!\"\n",
    "str2 = \"exam\"\n",
    "print (str1.find(str2))\n",
    "print (str1.find(str2, 10))\n",
    "print (str1.find(str2, 40))"
   ]
  },
  {
   "cell_type": "code",
   "execution_count": 6,
   "id": "0e9941b9-ec51-4e20-b466-43f85255ca2a",
   "metadata": {},
   "outputs": [
    {
     "name": "stdout",
     "output_type": "stream",
     "text": [
      "15\n",
      "15\n"
     ]
    },
    {
     "ename": "ValueError",
     "evalue": "substring not found",
     "output_type": "error",
     "traceback": [
      "\u001b[1;31m---------------------------------------------------------------------------\u001b[0m",
      "\u001b[1;31mValueError\u001b[0m                                Traceback (most recent call last)",
      "\u001b[1;32m<ipython-input-6-b60bed81a65e>\u001b[0m in \u001b[0;36m<module>\u001b[1;34m\u001b[0m\n\u001b[0;32m      3\u001b[0m \u001b[0mprint\u001b[0m \u001b[1;33m(\u001b[0m\u001b[0mstr1\u001b[0m\u001b[1;33m.\u001b[0m\u001b[0mindex\u001b[0m\u001b[1;33m(\u001b[0m\u001b[0mstr2\u001b[0m\u001b[1;33m)\u001b[0m\u001b[1;33m)\u001b[0m\u001b[1;33m\u001b[0m\u001b[1;33m\u001b[0m\u001b[0m\n\u001b[0;32m      4\u001b[0m \u001b[0mprint\u001b[0m \u001b[1;33m(\u001b[0m\u001b[0mstr1\u001b[0m\u001b[1;33m.\u001b[0m\u001b[0mindex\u001b[0m\u001b[1;33m(\u001b[0m\u001b[0mstr2\u001b[0m\u001b[1;33m,\u001b[0m \u001b[1;36m10\u001b[0m\u001b[1;33m)\u001b[0m\u001b[1;33m)\u001b[0m\u001b[1;33m\u001b[0m\u001b[1;33m\u001b[0m\u001b[0m\n\u001b[1;32m----> 5\u001b[1;33m \u001b[0mprint\u001b[0m \u001b[1;33m(\u001b[0m\u001b[0mstr1\u001b[0m\u001b[1;33m.\u001b[0m\u001b[0mindex\u001b[0m\u001b[1;33m(\u001b[0m\u001b[0mstr2\u001b[0m\u001b[1;33m,\u001b[0m \u001b[1;36m40\u001b[0m\u001b[1;33m)\u001b[0m\u001b[1;33m)\u001b[0m\u001b[1;33m\u001b[0m\u001b[1;33m\u001b[0m\u001b[0m\n\u001b[0m",
      "\u001b[1;31mValueError\u001b[0m: substring not found"
     ]
    }
   ],
   "source": [
    "str1 = \"this is string example....wow!!!\"\n",
    "str2 = \"exam\"\n",
    "print (str1.index(str2))\n",
    "print (str1.index(str2, 10))\n",
    "print (str1.index(str2, 40))"
   ]
  },
  {
   "cell_type": "code",
   "execution_count": 7,
   "id": "268bbc24-bd6d-47d4-a0bb-a294b5464953",
   "metadata": {},
   "outputs": [
    {
     "name": "stdout",
     "output_type": "stream",
     "text": [
      "True\n",
      "False\n"
     ]
    }
   ],
   "source": [
    "str1 = \"this2009\";  # No space in this string \n",
    "print (str1.isalnum()) \n",
    "str1 = \"this is string example....wow!!!\"\n",
    "print (str1.isalnum())"
   ]
  },
  {
   "cell_type": "code",
   "execution_count": 9,
   "id": "2a0b99ec-ea80-4bc4-9bdb-4ef508d29137",
   "metadata": {},
   "outputs": [
    {
     "name": "stdout",
     "output_type": "stream",
     "text": [
      "True\n",
      "False\n"
     ]
    }
   ],
   "source": [
    "str1 = \"this\";  # only alphabets in this string \n",
    "print (str1.isalpha()) \n",
    "str2 = \"this is string example....wow!!!\"\n",
    "print (str2.isalpha())"
   ]
  },
  {
   "cell_type": "code",
   "execution_count": 10,
   "id": "80a41022-49dc-49b7-9297-f09e16d07e4e",
   "metadata": {},
   "outputs": [
    {
     "name": "stdout",
     "output_type": "stream",
     "text": [
      "True\n",
      "False\n"
     ]
    }
   ],
   "source": [
    "str1 = \"123456\"  # Only digit in this string \n",
    "print (str1.isdigit()) \n",
    "str2 = \"this is string example....wow!!!\"\n",
    "print (str2.isdigit())"
   ]
  },
  {
   "cell_type": "code",
   "execution_count": 11,
   "id": "da81b111-0cca-42e9-a347-817097e619eb",
   "metadata": {},
   "outputs": [
    {
     "name": "stdout",
     "output_type": "stream",
     "text": [
      "False\n",
      "True\n"
     ]
    }
   ],
   "source": [
    "str1 = \"THIS is string example....wow!!!\"\n",
    "print (str1.islower())\n",
    "str2 = \"this is string example....wow!!!\"\n",
    "print (str2.islower())"
   ]
  },
  {
   "cell_type": "code",
   "execution_count": 13,
   "id": "54f241e5-e28b-4ba5-ba13-cd7b1d05b95c",
   "metadata": {},
   "outputs": [
    {
     "name": "stdout",
     "output_type": "stream",
     "text": [
      "False\n",
      "True\n"
     ]
    }
   ],
   "source": [
    "str1 = u\"this2009\"   \n",
    "print (str1.isnumeric()) \n",
    "str2 = u\"23443434\" \n",
    "print (str2.isnumeric())"
   ]
  },
  {
   "cell_type": "code",
   "execution_count": 14,
   "id": "308f12bf-4381-42f6-8776-805ce4b6366a",
   "metadata": {},
   "outputs": [
    {
     "name": "stdout",
     "output_type": "stream",
     "text": [
      "True\n",
      "False\n"
     ]
    }
   ],
   "source": [
    "str1 = \"       \" \n",
    "print (str1.isspace())\n",
    "str2 = \"This is string example....wow!!!\"\n",
    "print (str2.isspace())"
   ]
  },
  {
   "cell_type": "code",
   "execution_count": 15,
   "id": "632212dc-e1cf-4a64-be28-48dde13eeab5",
   "metadata": {},
   "outputs": [
    {
     "name": "stdout",
     "output_type": "stream",
     "text": [
      "True\n",
      "False\n"
     ]
    }
   ],
   "source": [
    "str1 = \"This Is String Example...Wow!!!\" \n",
    "print (str1.istitle())\n",
    "str2 = \"This is string example....wow!!!\"\n",
    "print (str2.istitle())"
   ]
  },
  {
   "cell_type": "code",
   "execution_count": 16,
   "id": "f9eb123c-22c0-43cf-88c2-126faad71636",
   "metadata": {},
   "outputs": [
    {
     "name": "stdout",
     "output_type": "stream",
     "text": [
      "True\n",
      "False\n"
     ]
    }
   ],
   "source": [
    "str1 = \"THIS IS STRING EXAMPLE....WOW!!!\"\n",
    "print (str1.isupper())\n",
    "str2 = \"This is string example....wow!!!\"\n",
    "print (str2.isupper())"
   ]
  },
  {
   "cell_type": "code",
   "execution_count": 17,
   "id": "93b48f13-c884-4b66-8c00-7896cfdf607d",
   "metadata": {},
   "outputs": [
    {
     "name": "stdout",
     "output_type": "stream",
     "text": [
      "a-b-c\n"
     ]
    }
   ],
   "source": [
    "s = \"-\" \n",
    "seq = (\"a\", \"b\", \"c\"); # This is sequence of strings. \n",
    "print (s.join( seq )) "
   ]
  },
  {
   "cell_type": "code",
   "execution_count": 18,
   "id": "40cbd9d0-d23b-42cc-94a0-ebe325943056",
   "metadata": {},
   "outputs": [
    {
     "name": "stdout",
     "output_type": "stream",
     "text": [
      "Length of the string:  32\n"
     ]
    }
   ],
   "source": [
    "str1 = \"this is string example....wow!!!\"\n",
    "print (\"Length of the string: \", len(str1)) "
   ]
  },
  {
   "cell_type": "code",
   "execution_count": 20,
   "id": "b6053d39-f09e-4d8f-aedf-ad2b0ced3121",
   "metadata": {},
   "outputs": [
    {
     "name": "stdout",
     "output_type": "stream",
     "text": [
      "this is string example....wow!!!******************\n"
     ]
    }
   ],
   "source": [
    "str1 = \"this is string example....wow!!!\"\n",
    "print (str1.ljust(50, '*'))"
   ]
  },
  {
   "cell_type": "code",
   "execution_count": 21,
   "id": "17770fde-1bac-4832-bddc-9089167c5a8a",
   "metadata": {},
   "outputs": [
    {
     "name": "stdout",
     "output_type": "stream",
     "text": [
      "this is string example....wow!!!\n"
     ]
    }
   ],
   "source": [
    "str1 = \"THIS IS STRING EXAMPLE....WOW!!!\"\n",
    "print (str1.lower())"
   ]
  },
  {
   "cell_type": "code",
   "execution_count": 22,
   "id": "fc123f7f-faad-4215-95a3-5e91ab9440e2",
   "metadata": {},
   "outputs": [
    {
     "name": "stdout",
     "output_type": "stream",
     "text": [
      "this is string example....wow!!!\n",
      "this is string example....wow!!!8888888\n"
     ]
    }
   ],
   "source": [
    "str1 = \"this is string example....wow!!!\"\n",
    "print (str1.lstrip()) \n",
    "str2 = \"88888888this is string example....wow!!!8888888\"\n",
    "print (str2.lstrip('8'))"
   ]
  },
  {
   "cell_type": "code",
   "execution_count": 23,
   "id": "ceb369b6-03a2-469b-8554-dc5f43c27f21",
   "metadata": {},
   "outputs": [
    {
     "name": "stdout",
     "output_type": "stream",
     "text": [
      "th3s 3s str3ng 2x1mpl2....w4w!!!\n"
     ]
    }
   ],
   "source": [
    "intab = \"aeiou\" \n",
    "outtab = \"12345\" \n",
    "trantab = str.maketrans(intab, outtab)\n",
    "str1 = \"this is string example....wow!!!\"\n",
    "print (str1.translate(trantab))"
   ]
  },
  {
   "cell_type": "code",
   "execution_count": 26,
   "id": "3e981339-aa25-4c8f-972e-a159d99df50a",
   "metadata": {},
   "outputs": [
    {
     "name": "stdout",
     "output_type": "stream",
     "text": [
      "Max character: w\n",
      "Max character: x\n"
     ]
    }
   ],
   "source": [
    "str1 = \"this is reall a string eample....wow!!!\"\n",
    "print (\"Max character: \" + max(str1))\n",
    "str1 = \"this is string example....wow!!!\"\n",
    "print (\"Max character: \" + max(str2))"
   ]
  },
  {
   "cell_type": "code",
   "execution_count": 30,
   "id": "73f8ec20-4c2d-405f-8f50-7c0181323afe",
   "metadata": {},
   "outputs": [
    {
     "name": "stdout",
     "output_type": "stream",
     "text": [
      "Min character: !\n",
      "Min character: !\n"
     ]
    }
   ],
   "source": [
    "str1 = \"this-is-real-string-example....wow!!!\"\n",
    "print (\"Min character: \" + min(str1))\n",
    "str2 = \"this-is-real-string-example....wow!!!\"\n",
    "print (\"Min character: \" + min(str2))"
   ]
  },
  {
   "cell_type": "code",
   "execution_count": 37,
   "id": "e1e4225b-c0b2-4e8c-b493-1c66adc66d4a",
   "metadata": {},
   "outputs": [
    {
     "name": "stdout",
     "output_type": "stream",
     "text": [
      "thwas was string example....wow!!! thwas was really string\n",
      "thwas was string example....wow!!! thwas is really string\n"
     ]
    }
   ],
   "source": [
    "str1 = \"this is string example....wow!!! this is really string\" \n",
    "print (str1.replace(\"is\", \"was\")) \n",
    "print (str1.replace(\"is\", \"was\", 3))"
   ]
  },
  {
   "cell_type": "code",
   "execution_count": 38,
   "id": "ffbe98b0-41de-408c-964b-52b170877239",
   "metadata": {},
   "outputs": [
    {
     "name": "stdout",
     "output_type": "stream",
     "text": [
      "5\n",
      "5\n",
      "-1\n",
      "2\n",
      "2\n",
      "-1\n"
     ]
    }
   ],
   "source": [
    "str1 = \"this is string example....wow!!!\"\n",
    "str2 = \"is\" \n",
    "print (str1.rfind(str2)) \n",
    "print (str1.rfind(str2, 0, 10)) \n",
    "print (str1.rfind(str2, 10, 0))\n",
    "print (str1.find(str2)) \n",
    "print (str1.find(str2, 0, 10))\n",
    "print (str1.find(str2, 10, 0)) "
   ]
  },
  {
   "cell_type": "code",
   "execution_count": 39,
   "id": "28e31ac1-c9d9-4bf3-9905-bc216d7ac172",
   "metadata": {},
   "outputs": [
    {
     "name": "stdout",
     "output_type": "stream",
     "text": [
      "5\n",
      "2\n"
     ]
    }
   ],
   "source": [
    "str1 = \"this is string example....wow!!!\"\n",
    "str2 = \"is\"\n",
    "print (str1.rindex(str2))\n",
    "print (str1.index(str2))"
   ]
  },
  {
   "cell_type": "code",
   "execution_count": 40,
   "id": "d7302fc4-13bd-4cda-af34-f741965552d3",
   "metadata": {},
   "outputs": [
    {
     "name": "stdout",
     "output_type": "stream",
     "text": [
      "000000000000000000this is string example....wow!!!\n"
     ]
    }
   ],
   "source": [
    "str1 = \"this is string example....wow!!!\"\n",
    "print (str1.rjust(50, '0'))"
   ]
  },
  {
   "cell_type": "code",
   "execution_count": 46,
   "id": "1a1dc5ff-4b62-4431-97b3-bf9b40a75aef",
   "metadata": {},
   "outputs": [
    {
     "name": "stdout",
     "output_type": "stream",
     "text": [
      "['Line1-abcdef', 'Line2-abc', 'Line4-abcd']\n",
      "['Line1-abcdef', '\\nLine2-abc \\nLine4-abcd']\n"
     ]
    }
   ],
   "source": [
    "str1 = \"Line1-abcdef \\nLine2-abc \\nLine4-abcd\" \n",
    "print (str1.split( )) \n",
    "print (str1.split(' ', 1)) "
   ]
  },
  {
   "cell_type": "code",
   "execution_count": 1,
   "id": "b39c8d00-b45d-4a8c-8bc1-49d06c417573",
   "metadata": {},
   "outputs": [
    {
     "name": "stdout",
     "output_type": "stream",
     "text": [
      "['Line1-a b c d e f', 'Line2- a b c', '', 'Line4- a b c d']\n",
      "['Line1-a b c d e f', 'Line2- a b c', '', 'Line4- a b c d']\n",
      "['Line1-a b c d e f\\n', 'Line2- a b c\\n', '\\n', 'Line4- a b c d']\n",
      "['Line1-a b c d e f\\n', 'Line2- a b c\\n', '\\n', 'Line4- a b c d']\n",
      "['Line1-a b c d e f\\n', 'Line2- a b c\\n', '\\n', 'Line4- a b c d']\n"
     ]
    }
   ],
   "source": [
    "str1 = \"Line1-a b c d e f\\nLine2- a b c\\n\\nLine4- a b c d\" \n",
    "print (str1.splitlines( )) \n",
    "print (str1.splitlines( 0 )) \n",
    "print (str1.splitlines( 3 )) \n",
    "print (str1.splitlines( 4 )) \n",
    "print (str1.splitlines( 5 )) "
   ]
  },
  {
   "cell_type": "code",
   "execution_count": 2,
   "id": "ccbba407-73f0-4e3d-a8ac-f7fa2df4e850",
   "metadata": {},
   "outputs": [
    {
     "name": "stdout",
     "output_type": "stream",
     "text": [
      "True\n",
      "True\n",
      "False\n"
     ]
    }
   ],
   "source": [
    "str1 = \"this is string example....wow!!!\"\n",
    "print (str1.startswith( 'this' ))\n",
    "print (str1.startswith( 'is', 2, 4 ))\n",
    "print (str1.startswith( 'this', 2, 4 ))"
   ]
  },
  {
   "cell_type": "code",
   "execution_count": 3,
   "id": "85eaaed5-9f26-4c5a-b218-f4e330e47d1b",
   "metadata": {},
   "outputs": [
    {
     "name": "stdout",
     "output_type": "stream",
     "text": [
      "this is string example....wow!!!\n"
     ]
    }
   ],
   "source": [
    "str1 = \"0000000this is string example....wow!!!0000000\"\n",
    "print (str1.strip( '0' ))"
   ]
  },
  {
   "cell_type": "code",
   "execution_count": 3,
   "id": "04f6b9c3-b329-42f7-977e-756e5d2bb87a",
   "metadata": {},
   "outputs": [
    {
     "name": "stdout",
     "output_type": "stream",
     "text": [
      "THIS IS STRING EXAMPLE....WOW!!!\n",
      "this is string example....wow!!!\n"
     ]
    }
   ],
   "source": [
    "str1 = \"this is string example....wow!!!\"\n",
    "print (str1.swapcase()) \n",
    "str1 = \"THIS IS STRING EXAMPLE....WOW!!!\"\n",
    "print (str1.swapcase())"
   ]
  },
  {
   "cell_type": "code",
   "execution_count": 5,
   "id": "b5f8d1da-fc03-42a4-8c4c-c0a151e95fd2",
   "metadata": {},
   "outputs": [
    {
     "name": "stdout",
     "output_type": "stream",
     "text": [
      "This Is String Example....Wow!!!\n"
     ]
    }
   ],
   "source": [
    "str1 = \"this is string example....wow!!!\"\n",
    "print (str1.title())"
   ]
  },
  {
   "cell_type": "code",
   "execution_count": 6,
   "id": "804e23ca-619b-403b-9900-8f22fb0ba51e",
   "metadata": {},
   "outputs": [
    {
     "name": "stdout",
     "output_type": "stream",
     "text": [
      "th3s 3s str3ng 2x1mpl2....w4w!!!\n"
     ]
    }
   ],
   "source": [
    "intab = \"aeiou\" \n",
    "outtab = \"12345\" \n",
    "str1 = \"this is string example....wow!!!\"\n",
    "trantab = str.maketrans(intab, outtab)\n",
    "print (str1.translate(trantab))"
   ]
  },
  {
   "cell_type": "code",
   "execution_count": 8,
   "id": "57cfa00c-b4c1-4018-8f7c-44bf4edbe809",
   "metadata": {},
   "outputs": [
    {
     "name": "stdout",
     "output_type": "stream",
     "text": [
      "th3s 3s str3ng 21pl2....w4w!!!\n"
     ]
    }
   ],
   "source": [
    "trantab = str.maketrans(intab, outtab, 'xm') \n",
    "print (str1.translate(trantab)) "
   ]
  },
  {
   "cell_type": "code",
   "execution_count": 9,
   "id": "f476fe11-7267-4336-8d86-2bc433dbc9d1",
   "metadata": {},
   "outputs": [
    {
     "name": "stdout",
     "output_type": "stream",
     "text": [
      "str1.capitalize() :  THIS IS STRING EXAMPLE....WOW!!!\n"
     ]
    }
   ],
   "source": [
    "str1 = \"this is string example....wow!!!\"\n",
    "print (\"str1.capitalize() : \", str1.upper()) "
   ]
  },
  {
   "cell_type": "code",
   "execution_count": 10,
   "id": "6a222cb4-2c32-4937-8c55-529ee915f3fa",
   "metadata": {},
   "outputs": [
    {
     "name": "stdout",
     "output_type": "stream",
     "text": [
      "00000000this is string example....wow!!!\n",
      "000000000000000000this is string example....wow!!!\n"
     ]
    }
   ],
   "source": [
    "str1 = \"this is string example....wow!!!\"\n",
    "print (str1.zfill(40))\n",
    "print (str1.zfill(50))"
   ]
  },
  {
   "cell_type": "code",
   "execution_count": 11,
   "id": "f986f49a-a701-41c6-9741-b47c5f606e68",
   "metadata": {},
   "outputs": [
    {
     "name": "stdout",
     "output_type": "stream",
     "text": [
      "False\n",
      "True\n"
     ]
    }
   ],
   "source": [
    "str1 = u\"this2009\"\n",
    "print (str1.isdecimal())\n",
    "str2 = u\"23443434\"\n",
    "print (str2.isdecimal())"
   ]
  },
  {
   "cell_type": "code",
   "execution_count": null,
   "id": "f4d2601e-2a06-4a8e-bea3-763bd1c2f602",
   "metadata": {},
   "outputs": [],
   "source": [
    "Assigment 2"
   ]
  },
  {
   "cell_type": "markdown",
   "id": "f1d77ad6-9e5d-428c-adba-fc06c9ce9211",
   "metadata": {},
   "source": [
    "Question 1\n",
    "\n",
    "Collect the name, year of birth and salary of a user. Then output the following :"
   ]
  },
  {
   "cell_type": "code",
   "execution_count": 11,
   "id": "d448fe1f-0437-4de7-a0f1-192028f3a104",
   "metadata": {},
   "outputs": [
    {
     "name": "stdin",
     "output_type": "stream",
     "text": [
      "Please enter your name:  Muhammad Afiq\n",
      "Please enter your year of birth:  1997\n",
      "Please enter your salary:  2400\n"
     ]
    }
   ],
   "source": [
    "name = input(\"Please enter your name: \")\n",
    "yob = int(input(\"Please enter your year of birth: \"))\n",
    "salary = int(input(\"Please enter your salary: \"))"
   ]
  },
  {
   "cell_type": "code",
   "execution_count": 12,
   "id": "26a228c2-7e4c-4910-80a9-ceed48103c56",
   "metadata": {},
   "outputs": [],
   "source": [
    "age = 2030-yob\n",
    "tax = (salary)*(12.3/100)"
   ]
  },
  {
   "cell_type": "code",
   "execution_count": 13,
   "id": "d320d198-1ce2-4872-bdce-5eb8ecf2bce6",
   "metadata": {},
   "outputs": [
    {
     "name": "stdout",
     "output_type": "stream",
     "text": [
      "Goodday Muhammad Afiq!, your year of birth is 1997 and your age in the year 2030 will be 33.\n",
      "From your salary of 2400 the computed tax of 12.3% is 295.2.\n"
     ]
    }
   ],
   "source": [
    "print(\"Goodday {0}!, your year of birth is {1} and your age in the year 2030 will be {2}.\".format(name,yob,age))\n",
    "print(\"From your salary of {0} the computed tax of 12.3% is {1:.1f}.\".format(salary,tax))"
   ]
  },
  {
   "cell_type": "markdown",
   "id": "5fc6fb89-b71e-428b-891e-1c5698663a1c",
   "metadata": {},
   "source": [
    "Question 2\n",
    "\n",
    "Collect a list of names and scores and find the average of the scores."
   ]
  },
  {
   "cell_type": "code",
   "execution_count": 23,
   "id": "98256511-eb64-4afe-b7bc-2ae30e6e9719",
   "metadata": {},
   "outputs": [
    {
     "name": "stdout",
     "output_type": "stream",
     "text": [
      "john 70\n",
      "james 60\n",
      "jonny 75\n",
      "jesicca 65\n",
      "jesse 80\n"
     ]
    }
   ],
   "source": [
    "name = [\"john\",\"james\",\"jonny\",\"jesicca\",\"jesse\"]\n",
    "score = [70,60,75,65,80]\n",
    "score_table = name+score\n",
    "print(score_table[0],score_table[5])\n",
    "print(score_table[1],score_table[6])\n",
    "print(score_table[2],score_table[7])\n",
    "print(score_table[3],score_table[8])\n",
    "print(score_table[4],score_table[9])"
   ]
  },
  {
   "cell_type": "code",
   "execution_count": 29,
   "id": "5be6cc4c-7121-4729-a2fd-0bc450de74b3",
   "metadata": {},
   "outputs": [
    {
     "name": "stdout",
     "output_type": "stream",
     "text": [
      "The average of the score is 70.0\n"
     ]
    }
   ],
   "source": [
    "sum = score[0]+score[1]+score[2]+score[3]+score[4]\n",
    "average = sum/len(score)\n",
    "print (\"The average of the score is {0}\".format(average))"
   ]
  },
  {
   "cell_type": "markdown",
   "id": "c5769184-4ffd-4f5d-b168-b5522f077635",
   "metadata": {},
   "source": [
    "Question 3\n",
    "\n",
    "Use python to write an application letter for job to Perantis apply text wrap with line width of 50."
   ]
  },
  {
   "cell_type": "code",
   "execution_count": 1,
   "id": "3764e9f8-91be-42c3-9b69-ba6eb50e7de0",
   "metadata": {},
   "outputs": [
    {
     "name": "stdin",
     "output_type": "stream",
     "text": [
      "Please enter receiver address:  Batu 1 Kampung Behor Temak 01000 Kangar Perlis Malaysia\n",
      "Please enter sender address:  175 Kampung Salang Malaysia Mersing Johor 86800 Malaysia\n",
      "Please enter receiver salution:  Miss\n",
      "Please enter your reveiver nick name:  Wong\n",
      "Please enter date:  19 October 2021\n",
      "Please enter your position applied:  Software Engineer\n",
      "Please enter your full name:  Muhammad Afiq\n",
      "Please enter your email:  afiq@gmail\n",
      "Please enter your phone number:  0122-34234345\n"
     ]
    }
   ],
   "source": [
    "import textwrap\n",
    "sample_text = '''\n",
    "With all my respect, I wish to apply for the above position. I came across a very exciting position on your job portal \n",
    "that I believe fits me perfectly. I am interested in applying for the position above.\n",
    "\n",
    "I am currently graduated in Automation and Robotics with Majored Bachelor of Engineering Technology \n",
    "(Automation and Robotics) with Honours at University Kuala Lumpur Malaysian France Institute (UniKL MFI). My current CGPA is 3.39\n",
    "\n",
    "I have gone through a six-month industrial training in Automation Department at Sony(EMCS) Sdn. Bhd.\n",
    "where I was given tasks to support all the electrical and mechanical problems in the production line and also troubleshoot the problem.\n",
    "\n",
    "I have attached a resume for your consideration. Please take a moment to go through them to get a better picture of who I am.\n",
    "\n",
    "I would love to talk to you in more detail regarding this amazing opportunity at your company.\n",
    "It would give me great pleasure to hear back from you regarding my application.\n",
    "    '''\n",
    "receiver_address= input(\"Please enter receiver address: \")\n",
    "sender_address= input(\"Please enter sender address: \")\n",
    "receiver_salutation= input(\"Please enter receiver salution: \")\n",
    "receiver_nick_name= input(\"Please enter your reveiver nick name: \")\n",
    "date= input(\"Please enter date: \")\n",
    "position_applied= input(\"Please enter your position applied: \")\n",
    "name= input(\"Please enter your full name: \")\n",
    "email= input(\"Please enter your email: \")\n",
    "phone_num= input(\"Please enter your phone number: \")"
   ]
  },
  {
   "cell_type": "code",
   "execution_count": 12,
   "id": "978bfda5-7675-4f47-b7ba-909ecdeac249",
   "metadata": {},
   "outputs": [
    {
     "name": "stdout",
     "output_type": "stream",
     "text": [
      "Batu 1 Kampung Behor Temak 01000 Kangar Perlis Malaysia \n",
      "\n",
      "_______________________________________________________\n",
      "\n",
      "175 Kampung Salang Malaysia Mersing Johor 86800 Malaysia\n",
      "\n",
      "Dear Miss Wong ,\t\t\t 19 October 2021 \n",
      "\n",
      "\n",
      "Job Application for Software Engineer position\n",
      "\n",
      "\n",
      " With all my respect, I wish to apply for the\n",
      "above position. I came across a very exciting\n",
      "position on your job portal  that I believe fits\n",
      "me perfectly. I am interested in applying for the\n",
      "position above.   I am currently graduated in\n",
      "Automation and Robotics with Majored Bachelor of\n",
      "Engineering Technology  (Automation and Robotics)\n",
      "with Honours at University Kuala Lumpur Malaysian\n",
      "France Institute (UniKL MFI). My current CGPA is\n",
      "3.39  I have gone through a six-month industrial\n",
      "training in Automation Department at Sony(EMCS)\n",
      "Sdn. Bhd. where I was given tasks to support all\n",
      "the electrical and mechanical problems in the\n",
      "production line and also troubleshoot the problem.\n",
      "I have attached a resume for your consideration.\n",
      "Please take a moment to go through them to get a\n",
      "better picture of who I am.  I would love to talk\n",
      "to you in more detail regarding this amazing\n",
      "opportunity at your company. It would give me\n",
      "great pleasure to hear back from you regarding my\n",
      "application.\n",
      "\n",
      "Sincerely,\n",
      "\n",
      "Muhammad Afiq \n",
      "\n",
      "afiq@gmail\n",
      "0122-34234345\n"
     ]
    }
   ],
   "source": [
    "print(receiver_address,\"\\n\")\n",
    "print(\"_______________________________________________________\\n\")\n",
    "print(sender_address)\n",
    "print(\"\\nDear\",receiver_salutation,receiver_nick_name,\",\\t\\t\\t\",date,\"\\n\\n\")\n",
    "\n",
    "print(\"Job Application for\",position_applied,\"position\\n\\n\")\n",
    "print(textwrap.fill(sample_text,width=50))\n",
    "print(\"\\nSincerely,\\n\")\n",
    "print(name,\"\\n\")\n",
    "print(email)\n",
    "print(phone_num)"
   ]
  },
  {
   "cell_type": "code",
   "execution_count": null,
   "id": "a420dbdc-1c85-4f2e-ab0f-9aa4abf5af6c",
   "metadata": {},
   "outputs": [],
   "source": []
  }
 ],
 "metadata": {
  "kernelspec": {
   "display_name": "Python 3",
   "language": "python",
   "name": "python3"
  },
  "language_info": {
   "codemirror_mode": {
    "name": "ipython",
    "version": 3
   },
   "file_extension": ".py",
   "mimetype": "text/x-python",
   "name": "python",
   "nbconvert_exporter": "python",
   "pygments_lexer": "ipython3",
   "version": "3.8.8"
  }
 },
 "nbformat": 4,
 "nbformat_minor": 5
}
