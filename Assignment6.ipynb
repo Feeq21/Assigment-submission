{
 "cells": [
  {
   "cell_type": "markdown",
   "id": "bd141000-3ed8-4b5a-83a0-43c090658fba",
   "metadata": {},
   "source": [
    "# Assignment 6 (numpy)"
   ]
  },
  {
   "cell_type": "code",
   "execution_count": 18,
   "id": "3c106ba3-9974-4d93-936e-5699b3e0483e",
   "metadata": {},
   "outputs": [
    {
     "name": "stdout",
     "output_type": "stream",
     "text": [
      "shape =  (10, 10)\n",
      "size =  100\n",
      "dim =  2\n"
     ]
    }
   ],
   "source": [
    "import numpy as np\n",
    "\n",
    "a1 = np.random.randint( 0 , 256 ,( 10 , 10 ), dtype='uint8' )\n",
    "\n",
    "print(\"shape = \", a1.shape)\n",
    "print(\"size = \", a1.size)\n",
    "print(\"dim = \", a1.ndim)"
   ]
  },
  {
   "cell_type": "code",
   "execution_count": 19,
   "id": "b587372f-d625-47ce-b4a5-a8aa6ca6b33f",
   "metadata": {},
   "outputs": [
    {
     "name": "stdout",
     "output_type": "stream",
     "text": [
      "[ 88 132 160 228 159  83 136 134 154 230]\n"
     ]
    }
   ],
   "source": [
    "print(a1[2])"
   ]
  },
  {
   "cell_type": "code",
   "execution_count": 20,
   "id": "6dccfb0b-44b7-410d-b9c0-ade31896d7c7",
   "metadata": {},
   "outputs": [
    {
     "data": {
      "text/plain": [
       "1504"
      ]
     },
     "execution_count": 20,
     "metadata": {},
     "output_type": "execute_result"
    }
   ],
   "source": [
    "sum(a1[2]) #third row sum"
   ]
  },
  {
   "cell_type": "code",
   "execution_count": 21,
   "id": "baa0c83f-5730-4683-8584-fb534ed54179",
   "metadata": {},
   "outputs": [
    {
     "name": "stdout",
     "output_type": "stream",
     "text": [
      "[1329  892 1005 1363 1303 1326 1204 1494 1433 1230]\n",
      "10\n",
      "1257.9\n"
     ]
    }
   ],
   "source": [
    "totcol = (a1.sum(axis=0))\n",
    "print(totcol)\n",
    "\n",
    "totlen = len(a1)\n",
    "print(totlen)\n",
    "\n",
    "average= (np.sum(totcol)/totlen)\n",
    "print(average) #column average"
   ]
  },
  {
   "cell_type": "code",
   "execution_count": null,
   "id": "7e6ced74-6834-4ea0-8b46-648c618db472",
   "metadata": {},
   "outputs": [],
   "source": [
    "#print(a1)"
   ]
  },
  {
   "cell_type": "code",
   "execution_count": null,
   "id": "d204fe64-75a8-44ef-9c09-ad535720097d",
   "metadata": {},
   "outputs": [],
   "source": []
  },
  {
   "cell_type": "code",
   "execution_count": null,
   "id": "78cbfa94-83aa-451b-bc4b-5890cbb75761",
   "metadata": {},
   "outputs": [],
   "source": []
  },
  {
   "cell_type": "code",
   "execution_count": null,
   "id": "d0c32820-3a21-41b5-be07-efab443f7b53",
   "metadata": {},
   "outputs": [],
   "source": []
  }
 ],
 "metadata": {
  "kernelspec": {
   "display_name": "Python 3",
   "language": "python",
   "name": "python3"
  },
  "language_info": {
   "codemirror_mode": {
    "name": "ipython",
    "version": 3
   },
   "file_extension": ".py",
   "mimetype": "text/x-python",
   "name": "python",
   "nbconvert_exporter": "python",
   "pygments_lexer": "ipython3",
   "version": "3.8.8"
  }
 },
 "nbformat": 4,
 "nbformat_minor": 5
}
